{
  "nbformat": 4,
  "nbformat_minor": 0,
  "metadata": {
    "colab": {
      "name": "Beginner_Workshop1.ipynb",
      "provenance": [],
      "collapsed_sections": [],
      "include_colab_link": true
    },
    "kernelspec": {
      "name": "python3",
      "display_name": "Python 3"
    }
  },
  "cells": [
    {
      "cell_type": "markdown",
      "metadata": {
        "id": "view-in-github",
        "colab_type": "text"
      },
      "source": [
        "<a href=\"https://colab.research.google.com/github/tidaltamu/workshop-data/blob/main/beginner/workshop1/code.ipynb\" target=\"_parent\"><img src=\"https://colab.research.google.com/assets/colab-badge.svg\" alt=\"Open In Colab\"/></a>"
      ]
    },
    {
      "cell_type": "markdown",
      "metadata": {
        "id": "CQey-MYJ6Gav"
      },
      "source": [
        "# Beginner Lecture 1"
      ]
    },
    {
      "cell_type": "markdown",
      "metadata": {
        "id": "dy_NDdJt6ONe"
      },
      "source": [
        "## Python"
      ]
    },
    {
      "cell_type": "markdown",
      "metadata": {
        "id": "ZbcpimtB9mIh"
      },
      "source": [
        "### Howdy, World!"
      ]
    },
    {
      "cell_type": "code",
      "metadata": {
        "colab": {
          "base_uri": "https://localhost:8080/"
        },
        "id": "Ll9Bk1ts9l35",
        "outputId": "246b5d79-8710-4849-934f-7d04fe18fd19"
      },
      "source": [
        "print(\"Howdy, World!\")"
      ],
      "execution_count": null,
      "outputs": [
        {
          "output_type": "stream",
          "text": [
            "Howdy, World!\n"
          ],
          "name": "stdout"
        }
      ]
    },
    {
      "cell_type": "markdown",
      "metadata": {
        "id": "v2Zw8uWR6P7m"
      },
      "source": [
        "### Numerical Operators"
      ]
    },
    {
      "cell_type": "code",
      "metadata": {
        "colab": {
          "base_uri": "https://localhost:8080/"
        },
        "id": "_xnBNcYuw5OD",
        "outputId": "33c62a23-b9f0-43fd-ee6c-a37b05f1dacc"
      },
      "source": [
        "3 + 3   # addition"
      ],
      "execution_count": null,
      "outputs": [
        {
          "output_type": "execute_result",
          "data": {
            "text/plain": [
              "6"
            ]
          },
          "metadata": {
            "tags": []
          },
          "execution_count": 2
        }
      ]
    },
    {
      "cell_type": "code",
      "metadata": {
        "colab": {
          "base_uri": "https://localhost:8080/"
        },
        "id": "EnfGpVoh5PvJ",
        "outputId": "a8da0c79-57e8-4a11-d5d1-1949b8a66184"
      },
      "source": [
        "8 - 6   # subtraction"
      ],
      "execution_count": null,
      "outputs": [
        {
          "output_type": "execute_result",
          "data": {
            "text/plain": [
              "2"
            ]
          },
          "metadata": {
            "tags": []
          },
          "execution_count": 3
        }
      ]
    },
    {
      "cell_type": "code",
      "metadata": {
        "colab": {
          "base_uri": "https://localhost:8080/"
        },
        "id": "-K8WKJw15TDe",
        "outputId": "efe14b39-ef8d-4be6-c83d-1595cd558913"
      },
      "source": [
        "7 * 9   # multiplication"
      ],
      "execution_count": null,
      "outputs": [
        {
          "output_type": "execute_result",
          "data": {
            "text/plain": [
              "63"
            ]
          },
          "metadata": {
            "tags": []
          },
          "execution_count": 4
        }
      ]
    },
    {
      "cell_type": "code",
      "metadata": {
        "colab": {
          "base_uri": "https://localhost:8080/"
        },
        "id": "nZ1CC1UI5b0q",
        "outputId": "6b16dc56-d361-4e7f-f712-ef263bb84ddb"
      },
      "source": [
        "5 / 4   # division; results in float, different from Java or C++"
      ],
      "execution_count": null,
      "outputs": [
        {
          "output_type": "execute_result",
          "data": {
            "text/plain": [
              "1.25"
            ]
          },
          "metadata": {
            "tags": []
          },
          "execution_count": 5
        }
      ]
    },
    {
      "cell_type": "code",
      "metadata": {
        "colab": {
          "base_uri": "https://localhost:8080/"
        },
        "id": "-OuEXKZ15ddM",
        "outputId": "025d91c1-4e83-407a-c351-5af1a85ef809"
      },
      "source": [
        "5 // 4  # integer division"
      ],
      "execution_count": null,
      "outputs": [
        {
          "output_type": "execute_result",
          "data": {
            "text/plain": [
              "1"
            ]
          },
          "metadata": {
            "tags": []
          },
          "execution_count": 6
        }
      ]
    },
    {
      "cell_type": "code",
      "metadata": {
        "colab": {
          "base_uri": "https://localhost:8080/"
        },
        "id": "JxzhTuVD5h0U",
        "outputId": "01dea8ab-a7a8-4cd4-eb46-02485d69f258"
      },
      "source": [
        "5 % 4   # modulus, results in remainder"
      ],
      "execution_count": null,
      "outputs": [
        {
          "output_type": "execute_result",
          "data": {
            "text/plain": [
              "1"
            ]
          },
          "metadata": {
            "tags": []
          },
          "execution_count": 7
        }
      ]
    },
    {
      "cell_type": "code",
      "metadata": {
        "colab": {
          "base_uri": "https://localhost:8080/"
        },
        "id": "RxufSW1MxXJp",
        "outputId": "a1d871b5-400e-4cd1-c692-1b53e64a7860"
      },
      "source": [
        "2 ** 3"
      ],
      "execution_count": null,
      "outputs": [
        {
          "output_type": "execute_result",
          "data": {
            "text/plain": [
              "8"
            ]
          },
          "metadata": {
            "tags": []
          },
          "execution_count": 8
        }
      ]
    },
    {
      "cell_type": "markdown",
      "metadata": {
        "id": "EfPWrd866v79"
      },
      "source": [
        "### Variables"
      ]
    },
    {
      "cell_type": "code",
      "metadata": {
        "colab": {
          "base_uri": "https://localhost:8080/"
        },
        "id": "xMyxKcmL6xCk",
        "outputId": "f34d3f0a-df94-4ce7-cf7f-7fc00ba86bd4"
      },
      "source": [
        "# just like algebra, variables can be used to store values\n",
        "x = 4\n",
        "x + 3"
      ],
      "execution_count": null,
      "outputs": [
        {
          "output_type": "execute_result",
          "data": {
            "text/plain": [
              "7"
            ]
          },
          "metadata": {
            "tags": []
          },
          "execution_count": 9
        }
      ]
    },
    {
      "cell_type": "code",
      "metadata": {
        "colab": {
          "base_uri": "https://localhost:8080/"
        },
        "id": "qe7LehaA61bn",
        "outputId": "a4043a65-caee-48ff-bd9f-0cf50fc06d95"
      },
      "source": [
        "# operations can be preformed on two or more variables\n",
        "x = 2\n",
        "y = 7\n",
        "x * y"
      ],
      "execution_count": null,
      "outputs": [
        {
          "output_type": "execute_result",
          "data": {
            "text/plain": [
              "14"
            ]
          },
          "metadata": {
            "tags": []
          },
          "execution_count": 10
        }
      ]
    },
    {
      "cell_type": "code",
      "metadata": {
        "colab": {
          "base_uri": "https://localhost:8080/"
        },
        "id": "TPUbNfL_65iV",
        "outputId": "bdac4ba9-8457-4fe2-f8f2-20583ed319a5"
      },
      "source": [
        "# variables should have meaningful names\n",
        "num_apples = 32\n",
        "dozen_apples = num_apples / 12\n",
        "dozen_apples"
      ],
      "execution_count": null,
      "outputs": [
        {
          "output_type": "execute_result",
          "data": {
            "text/plain": [
              "2.6666666666666665"
            ]
          },
          "metadata": {
            "tags": []
          },
          "execution_count": 11
        }
      ]
    },
    {
      "cell_type": "code",
      "metadata": {
        "colab": {
          "base_uri": "https://localhost:8080/"
        },
        "id": "2ooHQD7XDyY4",
        "outputId": "cc889dec-e828-414f-f790-944b593f693b"
      },
      "source": [
        "x = 3\n",
        "x = x + 1\n",
        "x"
      ],
      "execution_count": null,
      "outputs": [
        {
          "output_type": "execute_result",
          "data": {
            "text/plain": [
              "4"
            ]
          },
          "metadata": {
            "tags": []
          },
          "execution_count": 12
        }
      ]
    },
    {
      "cell_type": "code",
      "metadata": {
        "colab": {
          "base_uri": "https://localhost:8080/"
        },
        "id": "IYkoLp0JD16u",
        "outputId": "9b362ee7-56a0-41e4-86ce-5d218b6e379d"
      },
      "source": [
        "x = 3\n",
        "x += 1\n",
        "x"
      ],
      "execution_count": null,
      "outputs": [
        {
          "output_type": "execute_result",
          "data": {
            "text/plain": [
              "4"
            ]
          },
          "metadata": {
            "tags": []
          },
          "execution_count": 13
        }
      ]
    },
    {
      "cell_type": "code",
      "metadata": {
        "colab": {
          "base_uri": "https://localhost:8080/"
        },
        "id": "-0uFbXeuD8gu",
        "outputId": "280cf3cc-5c6b-47e1-c774-a13c24dc8037"
      },
      "source": [
        "x = 3\n",
        "x -= 1\n",
        "x"
      ],
      "execution_count": null,
      "outputs": [
        {
          "output_type": "execute_result",
          "data": {
            "text/plain": [
              "2"
            ]
          },
          "metadata": {
            "tags": []
          },
          "execution_count": 14
        }
      ]
    },
    {
      "cell_type": "code",
      "metadata": {
        "colab": {
          "base_uri": "https://localhost:8080/"
        },
        "id": "Q5GqqIjnD_NE",
        "outputId": "a4ebafca-109a-4a32-a08b-77028f9937f2"
      },
      "source": [
        "x = 3\n",
        "x *= 2\n",
        "x"
      ],
      "execution_count": null,
      "outputs": [
        {
          "output_type": "execute_result",
          "data": {
            "text/plain": [
              "6"
            ]
          },
          "metadata": {
            "tags": []
          },
          "execution_count": 15
        }
      ]
    },
    {
      "cell_type": "code",
      "metadata": {
        "colab": {
          "base_uri": "https://localhost:8080/"
        },
        "id": "jq7whxSzEBNc",
        "outputId": "870f5d5e-f186-4726-da2e-d2d2a5b276e0"
      },
      "source": [
        "x = 3\n",
        "x /= 2\n",
        "x"
      ],
      "execution_count": null,
      "outputs": [
        {
          "output_type": "execute_result",
          "data": {
            "text/plain": [
              "1.5"
            ]
          },
          "metadata": {
            "tags": []
          },
          "execution_count": 16
        }
      ]
    },
    {
      "cell_type": "markdown",
      "metadata": {
        "id": "9N8vN3bX7uGW"
      },
      "source": [
        "### Data Types"
      ]
    },
    {
      "cell_type": "code",
      "metadata": {
        "colab": {
          "base_uri": "https://localhost:8080/"
        },
        "id": "_7hNC4Mm7140",
        "outputId": "f2d9f622-3f4c-4f61-a9ad-0cd46a29d702"
      },
      "source": [
        "x = 3\n",
        "type(x)"
      ],
      "execution_count": null,
      "outputs": [
        {
          "output_type": "execute_result",
          "data": {
            "text/plain": [
              "int"
            ]
          },
          "metadata": {
            "tags": []
          },
          "execution_count": 17
        }
      ]
    },
    {
      "cell_type": "code",
      "metadata": {
        "colab": {
          "base_uri": "https://localhost:8080/"
        },
        "id": "ZfDsKD_078W3",
        "outputId": "756b1580-63ed-47e2-b9d2-b22c638ffa7c"
      },
      "source": [
        "x = 4.5\n",
        "type(x)"
      ],
      "execution_count": null,
      "outputs": [
        {
          "output_type": "execute_result",
          "data": {
            "text/plain": [
              "float"
            ]
          },
          "metadata": {
            "tags": []
          },
          "execution_count": 18
        }
      ]
    },
    {
      "cell_type": "code",
      "metadata": {
        "colab": {
          "base_uri": "https://localhost:8080/"
        },
        "id": "JYFRUB5f8H-E",
        "outputId": "94de23ae-9272-4469-d9cc-3390e287049c"
      },
      "source": [
        "x = \"Howdy!\"\n",
        "type(x)"
      ],
      "execution_count": null,
      "outputs": [
        {
          "output_type": "execute_result",
          "data": {
            "text/plain": [
              "str"
            ]
          },
          "metadata": {
            "tags": []
          },
          "execution_count": 19
        }
      ]
    },
    {
      "cell_type": "code",
      "metadata": {
        "colab": {
          "base_uri": "https://localhost:8080/"
        },
        "id": "gnrPHs-P3Cqb",
        "outputId": "30e8b6a7-80cc-4488-bcbc-fee322a0a17a"
      },
      "source": [
        "# you can use single OR double quotes\n",
        "\"howdy\" == 'howdy'"
      ],
      "execution_count": null,
      "outputs": [
        {
          "output_type": "execute_result",
          "data": {
            "text/plain": [
              "True"
            ]
          },
          "metadata": {
            "tags": []
          },
          "execution_count": 20
        }
      ]
    },
    {
      "cell_type": "code",
      "metadata": {
        "colab": {
          "base_uri": "https://localhost:8080/"
        },
        "id": "b-pFjmXi8WHo",
        "outputId": "fd85e42c-ea21-41f2-a7ae-1cdd62bd2e59"
      },
      "source": [
        "x = True\n",
        "type(x)"
      ],
      "execution_count": null,
      "outputs": [
        {
          "output_type": "execute_result",
          "data": {
            "text/plain": [
              "bool"
            ]
          },
          "metadata": {
            "tags": []
          },
          "execution_count": 21
        }
      ]
    },
    {
      "cell_type": "markdown",
      "metadata": {
        "id": "EZXc6MSr8zAK"
      },
      "source": [
        "### The `print()` Function"
      ]
    },
    {
      "cell_type": "code",
      "metadata": {
        "id": "juBSgRHN82mh",
        "colab": {
          "base_uri": "https://localhost:8080/",
          "height": 35
        },
        "outputId": "e0ac0d0d-7f58-494b-ce43-a5d16739751e"
      },
      "source": [
        "x = \"howdy!\"\n",
        "y = \"hello!\"\n",
        "x\n",
        "y"
      ],
      "execution_count": null,
      "outputs": [
        {
          "output_type": "execute_result",
          "data": {
            "application/vnd.google.colaboratory.intrinsic+json": {
              "type": "string"
            },
            "text/plain": [
              "'hello!'"
            ]
          },
          "metadata": {
            "tags": []
          },
          "execution_count": 22
        }
      ]
    },
    {
      "cell_type": "code",
      "metadata": {
        "id": "X2txPXvb-Pno",
        "colab": {
          "base_uri": "https://localhost:8080/"
        },
        "outputId": "47fb39c7-bb2a-4f11-8e74-86af88dc75b9"
      },
      "source": [
        "x = \"howdy!\"\n",
        "y = \"hello!\"\n",
        "print(x)\n",
        "print(y)"
      ],
      "execution_count": null,
      "outputs": [
        {
          "output_type": "stream",
          "text": [
            "howdy!\n",
            "hello!\n"
          ],
          "name": "stdout"
        }
      ]
    },
    {
      "cell_type": "code",
      "metadata": {
        "id": "RCqJG37M-S__",
        "colab": {
          "base_uri": "https://localhost:8080/"
        },
        "outputId": "725dab2c-5479-49b0-c70d-d109920aaaf5"
      },
      "source": [
        "# Print can be used for any data type\n",
        "x = 3\n",
        "y = 4.0\n",
        "z = False\n",
        "print(x)\n",
        "print(y)\n",
        "print(z)"
      ],
      "execution_count": null,
      "outputs": [
        {
          "output_type": "stream",
          "text": [
            "3\n",
            "4.0\n",
            "False\n"
          ],
          "name": "stdout"
        }
      ]
    },
    {
      "cell_type": "markdown",
      "metadata": {
        "id": "5I-wz45Y8sP6"
      },
      "source": [
        "### Boolean Operators"
      ]
    },
    {
      "cell_type": "code",
      "metadata": {
        "id": "s_s85nak8ul6",
        "colab": {
          "base_uri": "https://localhost:8080/"
        },
        "outputId": "f67b5b7e-f2dd-4af1-84ae-8a2182bdbfd1"
      },
      "source": [
        "True and True"
      ],
      "execution_count": null,
      "outputs": [
        {
          "output_type": "execute_result",
          "data": {
            "text/plain": [
              "True"
            ]
          },
          "metadata": {
            "tags": []
          },
          "execution_count": 25
        }
      ]
    },
    {
      "cell_type": "code",
      "metadata": {
        "id": "tLEzdCng9yiT",
        "colab": {
          "base_uri": "https://localhost:8080/"
        },
        "outputId": "efd05372-c75d-4112-e837-590094314cc5"
      },
      "source": [
        "True and False"
      ],
      "execution_count": null,
      "outputs": [
        {
          "output_type": "execute_result",
          "data": {
            "text/plain": [
              "False"
            ]
          },
          "metadata": {
            "tags": []
          },
          "execution_count": 26
        }
      ]
    },
    {
      "cell_type": "code",
      "metadata": {
        "id": "Zv7KV7vf90ba",
        "colab": {
          "base_uri": "https://localhost:8080/"
        },
        "outputId": "772a547f-db61-420a-f50e-664379936ea3"
      },
      "source": [
        "True or False"
      ],
      "execution_count": null,
      "outputs": [
        {
          "output_type": "execute_result",
          "data": {
            "text/plain": [
              "True"
            ]
          },
          "metadata": {
            "tags": []
          },
          "execution_count": 27
        }
      ]
    },
    {
      "cell_type": "code",
      "metadata": {
        "id": "vs2Jg7sF92pk",
        "colab": {
          "base_uri": "https://localhost:8080/"
        },
        "outputId": "0d557e00-b588-4423-bb31-f0a72e061330"
      },
      "source": [
        "True or True"
      ],
      "execution_count": null,
      "outputs": [
        {
          "output_type": "execute_result",
          "data": {
            "text/plain": [
              "True"
            ]
          },
          "metadata": {
            "tags": []
          },
          "execution_count": 28
        }
      ]
    },
    {
      "cell_type": "code",
      "metadata": {
        "id": "-kDZn3G794aA",
        "colab": {
          "base_uri": "https://localhost:8080/"
        },
        "outputId": "6ee60021-8fe9-4507-c9fd-749a166326e7"
      },
      "source": [
        "False or False"
      ],
      "execution_count": null,
      "outputs": [
        {
          "output_type": "execute_result",
          "data": {
            "text/plain": [
              "False"
            ]
          },
          "metadata": {
            "tags": []
          },
          "execution_count": 29
        }
      ]
    },
    {
      "cell_type": "code",
      "metadata": {
        "id": "wk5xESzZ96SM",
        "colab": {
          "base_uri": "https://localhost:8080/"
        },
        "outputId": "8cba83cc-4a6e-42aa-9ada-61f16a3b81ed"
      },
      "source": [
        "not True"
      ],
      "execution_count": null,
      "outputs": [
        {
          "output_type": "execute_result",
          "data": {
            "text/plain": [
              "False"
            ]
          },
          "metadata": {
            "tags": []
          },
          "execution_count": 30
        }
      ]
    },
    {
      "cell_type": "markdown",
      "metadata": {
        "id": "80iQNxwC-Du9"
      },
      "source": [
        "### Relational Operators"
      ]
    },
    {
      "cell_type": "code",
      "metadata": {
        "id": "e4crDaoc-GJL"
      },
      "source": [
        "x = 3\n",
        "y = 4"
      ],
      "execution_count": null,
      "outputs": []
    },
    {
      "cell_type": "code",
      "metadata": {
        "id": "8vQ5kvkj--qA",
        "colab": {
          "base_uri": "https://localhost:8080/"
        },
        "outputId": "cd265439-dc00-448a-d592-11bfada66d50"
      },
      "source": [
        "x = y   # this is the ASSIGNMENT operator\n",
        "x"
      ],
      "execution_count": null,
      "outputs": [
        {
          "output_type": "execute_result",
          "data": {
            "text/plain": [
              "4"
            ]
          },
          "metadata": {
            "tags": []
          },
          "execution_count": 32
        }
      ]
    },
    {
      "cell_type": "code",
      "metadata": {
        "id": "hE7i10h_-_Ex",
        "colab": {
          "base_uri": "https://localhost:8080/"
        },
        "outputId": "e75c5825-5a4b-4af5-cb46-8cad64380696"
      },
      "source": [
        "x = 3\n",
        "x == y"
      ],
      "execution_count": null,
      "outputs": [
        {
          "output_type": "execute_result",
          "data": {
            "text/plain": [
              "False"
            ]
          },
          "metadata": {
            "tags": []
          },
          "execution_count": 33
        }
      ]
    },
    {
      "cell_type": "code",
      "metadata": {
        "id": "eVMXC7D4_7AD",
        "colab": {
          "base_uri": "https://localhost:8080/"
        },
        "outputId": "0b560907-add0-4a23-dd54-88f9057f7007"
      },
      "source": [
        "x != y"
      ],
      "execution_count": null,
      "outputs": [
        {
          "output_type": "execute_result",
          "data": {
            "text/plain": [
              "True"
            ]
          },
          "metadata": {
            "tags": []
          },
          "execution_count": 34
        }
      ]
    },
    {
      "cell_type": "code",
      "metadata": {
        "id": "JJSlSGUz__Dp",
        "colab": {
          "base_uri": "https://localhost:8080/"
        },
        "outputId": "59d7443a-7005-4f43-9e3c-eb8da87f6fca"
      },
      "source": [
        "x < y"
      ],
      "execution_count": null,
      "outputs": [
        {
          "output_type": "execute_result",
          "data": {
            "text/plain": [
              "True"
            ]
          },
          "metadata": {
            "tags": []
          },
          "execution_count": 35
        }
      ]
    },
    {
      "cell_type": "code",
      "metadata": {
        "id": "EcEPNsAmABfD",
        "colab": {
          "base_uri": "https://localhost:8080/"
        },
        "outputId": "cc8dd204-0648-4d1b-a911-492bee958967"
      },
      "source": [
        "x > y"
      ],
      "execution_count": null,
      "outputs": [
        {
          "output_type": "execute_result",
          "data": {
            "text/plain": [
              "False"
            ]
          },
          "metadata": {
            "tags": []
          },
          "execution_count": 36
        }
      ]
    },
    {
      "cell_type": "code",
      "metadata": {
        "id": "vFTnWCMIAC0w",
        "colab": {
          "base_uri": "https://localhost:8080/"
        },
        "outputId": "2ac03fac-a061-4d2d-c753-6e689e9b9d13"
      },
      "source": [
        "x < 3"
      ],
      "execution_count": null,
      "outputs": [
        {
          "output_type": "execute_result",
          "data": {
            "text/plain": [
              "False"
            ]
          },
          "metadata": {
            "tags": []
          },
          "execution_count": 37
        }
      ]
    },
    {
      "cell_type": "code",
      "metadata": {
        "id": "iissRZszAFFi",
        "colab": {
          "base_uri": "https://localhost:8080/"
        },
        "outputId": "b5f62219-5f75-4c3a-dafa-bdb16e789210"
      },
      "source": [
        "x <= 3"
      ],
      "execution_count": null,
      "outputs": [
        {
          "output_type": "execute_result",
          "data": {
            "text/plain": [
              "True"
            ]
          },
          "metadata": {
            "tags": []
          },
          "execution_count": 38
        }
      ]
    },
    {
      "cell_type": "code",
      "metadata": {
        "id": "mA_DAL9_AHAV",
        "colab": {
          "base_uri": "https://localhost:8080/"
        },
        "outputId": "54c1afcf-505a-4402-8394-0160d9593f98"
      },
      "source": [
        "y >= 4"
      ],
      "execution_count": null,
      "outputs": [
        {
          "output_type": "execute_result",
          "data": {
            "text/plain": [
              "True"
            ]
          },
          "metadata": {
            "tags": []
          },
          "execution_count": 39
        }
      ]
    },
    {
      "cell_type": "markdown",
      "metadata": {
        "id": "omSXKlGaAZW9"
      },
      "source": [
        "### Conditional Statements"
      ]
    },
    {
      "cell_type": "code",
      "metadata": {
        "id": "3aqCnKW3AbzJ",
        "colab": {
          "base_uri": "https://localhost:8080/"
        },
        "outputId": "549ca030-ad78-42e8-e387-cc029feb086b"
      },
      "source": [
        "num_apples = 8\n",
        "if num_apples > 6:\n",
        "  print(\"That's a lot of apples!\")\n",
        "else:\n",
        "  print(\"There aren't very many apples\")"
      ],
      "execution_count": null,
      "outputs": [
        {
          "output_type": "stream",
          "text": [
            "That's a lot of apples!\n"
          ],
          "name": "stdout"
        }
      ]
    },
    {
      "cell_type": "code",
      "metadata": {
        "id": "uttTcfI2BM0G",
        "colab": {
          "base_uri": "https://localhost:8080/"
        },
        "outputId": "e5f2b001-e74b-432c-cc39-f949d6b62338"
      },
      "source": [
        "num = 0\n",
        "if num < 0:\n",
        "  print(\"The number is negative\")\n",
        "elif num == 0:\n",
        "  print(\"The number is zero\")\n",
        "else:\n",
        "  print(\"The number is positive\")"
      ],
      "execution_count": null,
      "outputs": [
        {
          "output_type": "stream",
          "text": [
            "The number is zero\n"
          ],
          "name": "stdout"
        }
      ]
    },
    {
      "cell_type": "code",
      "metadata": {
        "id": "CVsHk_ZLCE8T",
        "colab": {
          "base_uri": "https://localhost:8080/"
        },
        "outputId": "9f24b484-31f4-4392-b00a-4cde532edb9e"
      },
      "source": [
        "# nested conditionals\n",
        "num = 4\n",
        "if num > 0:\n",
        "  if num % 2 == 0:  # number is even\n",
        "    print(\"The number is positive and even\")\n",
        "  else:\n",
        "    print(\"The number is positive and odd\")\n",
        "else:\n",
        "  print(\"The number is not positive\")"
      ],
      "execution_count": null,
      "outputs": [
        {
          "output_type": "stream",
          "text": [
            "The number is positive and even\n"
          ],
          "name": "stdout"
        }
      ]
    },
    {
      "cell_type": "markdown",
      "metadata": {
        "id": "tn8BHNJDDkZg"
      },
      "source": [
        "### Loops"
      ]
    },
    {
      "cell_type": "code",
      "metadata": {
        "id": "ox2t8uyCDm2a",
        "colab": {
          "base_uri": "https://localhost:8080/"
        },
        "outputId": "0d8f2c47-4842-4eee-999c-fd7c80e9e353"
      },
      "source": [
        "i = 0\n",
        "print(\"i =\", i)\n",
        "i += 1\n",
        "print(\"i =\", i)\n",
        "i += 1\n",
        "print(\"i =\", i)"
      ],
      "execution_count": null,
      "outputs": [
        {
          "output_type": "stream",
          "text": [
            "i = 0\n",
            "i = 1\n",
            "i = 2\n"
          ],
          "name": "stdout"
        }
      ]
    },
    {
      "cell_type": "code",
      "metadata": {
        "id": "MXZqcBiXEGlB",
        "colab": {
          "base_uri": "https://localhost:8080/"
        },
        "outputId": "984a42d2-3e9c-4395-998c-fa7461788fee"
      },
      "source": [
        "i = 0\n",
        "while (i < 5):  # cover infinite loops\n",
        "  print(\"i =\", i)\n",
        "  i += 1"
      ],
      "execution_count": null,
      "outputs": [
        {
          "output_type": "stream",
          "text": [
            "i = 0\n",
            "i = 1\n",
            "i = 2\n",
            "i = 3\n",
            "i = 4\n"
          ],
          "name": "stdout"
        }
      ]
    },
    {
      "cell_type": "code",
      "metadata": {
        "id": "YigWlRmLESJc",
        "colab": {
          "base_uri": "https://localhost:8080/"
        },
        "outputId": "138aabd0-8485-4674-8304-427690ddc51e"
      },
      "source": [
        "for i in range(5):  # cover when to use while loops vs. for loops, use for loops most often\n",
        "  print(\"i =\", i)"
      ],
      "execution_count": null,
      "outputs": [
        {
          "output_type": "stream",
          "text": [
            "i = 0\n",
            "i = 1\n",
            "i = 2\n",
            "i = 3\n",
            "i = 4\n"
          ],
          "name": "stdout"
        }
      ]
    },
    {
      "cell_type": "markdown",
      "metadata": {
        "id": "y0TL4zvgsypi"
      },
      "source": [
        "### Lists"
      ]
    },
    {
      "cell_type": "code",
      "metadata": {
        "id": "f4rVOhehsfzE"
      },
      "source": [
        "my_list = [2, 7, 8, -13, 12]  # initialization"
      ],
      "execution_count": null,
      "outputs": []
    },
    {
      "cell_type": "code",
      "metadata": {
        "colab": {
          "base_uri": "https://localhost:8080/"
        },
        "id": "J5qA7wOJs6pI",
        "outputId": "2f8ea8db-caf5-4472-cd07-0baebe244b90"
      },
      "source": [
        "for i in my_list:   # iteration\n",
        "  print(i)"
      ],
      "execution_count": null,
      "outputs": [
        {
          "output_type": "stream",
          "text": [
            "2\n",
            "7\n",
            "8\n",
            "-13\n",
            "12\n"
          ],
          "name": "stdout"
        }
      ]
    },
    {
      "cell_type": "code",
      "metadata": {
        "colab": {
          "base_uri": "https://localhost:8080/"
        },
        "id": "sFzmjWEMtBaf",
        "outputId": "d3ca8b91-241f-453d-aa12-2c78a95ae3fd"
      },
      "source": [
        "len(my_list)"
      ],
      "execution_count": null,
      "outputs": [
        {
          "output_type": "execute_result",
          "data": {
            "text/plain": [
              "5"
            ]
          },
          "metadata": {
            "tags": []
          },
          "execution_count": 48
        }
      ]
    },
    {
      "cell_type": "code",
      "metadata": {
        "colab": {
          "base_uri": "https://localhost:8080/"
        },
        "id": "qy1BPj12tBLL",
        "outputId": "8a3a5303-93a5-4328-a76f-7aaf79b3a642"
      },
      "source": [
        "my_list[3]"
      ],
      "execution_count": null,
      "outputs": [
        {
          "output_type": "execute_result",
          "data": {
            "text/plain": [
              "-13"
            ]
          },
          "metadata": {
            "tags": []
          },
          "execution_count": 49
        }
      ]
    },
    {
      "cell_type": "code",
      "metadata": {
        "colab": {
          "base_uri": "https://localhost:8080/"
        },
        "id": "SinVBI1bth5T",
        "outputId": "9c0e6d84-80a9-41f1-ec8d-e926517c7b5f"
      },
      "source": [
        "my_list[-1]"
      ],
      "execution_count": null,
      "outputs": [
        {
          "output_type": "execute_result",
          "data": {
            "text/plain": [
              "12"
            ]
          },
          "metadata": {
            "tags": []
          },
          "execution_count": 50
        }
      ]
    },
    {
      "cell_type": "code",
      "metadata": {
        "colab": {
          "base_uri": "https://localhost:8080/"
        },
        "id": "lD5onYK_tdUe",
        "outputId": "14b59dc3-7b8e-4e2b-fc55-858f46f58e8e"
      },
      "source": [
        "my_list[1:3]"
      ],
      "execution_count": null,
      "outputs": [
        {
          "output_type": "execute_result",
          "data": {
            "text/plain": [
              "[7, 8]"
            ]
          },
          "metadata": {
            "tags": []
          },
          "execution_count": 51
        }
      ]
    },
    {
      "cell_type": "code",
      "metadata": {
        "colab": {
          "base_uri": "https://localhost:8080/"
        },
        "id": "sl4rK0pluUCD",
        "outputId": "eee06c33-a221-44bf-c9d9-043ce875d242"
      },
      "source": [
        "my_list.append(3)\n",
        "my_list"
      ],
      "execution_count": null,
      "outputs": [
        {
          "output_type": "execute_result",
          "data": {
            "text/plain": [
              "[2, 7, 8, -13, 12, 3]"
            ]
          },
          "metadata": {
            "tags": []
          },
          "execution_count": 52
        }
      ]
    },
    {
      "cell_type": "code",
      "metadata": {
        "colab": {
          "base_uri": "https://localhost:8080/"
        },
        "id": "OG8-pDD9tjuO",
        "outputId": "3c6ed058-706c-41a7-ef9a-d295a0b7966e"
      },
      "source": [
        "for i in my_list:\n",
        "  i += 5\n",
        "my_list"
      ],
      "execution_count": null,
      "outputs": [
        {
          "output_type": "execute_result",
          "data": {
            "text/plain": [
              "[2, 7, 8, -13, 12, 3]"
            ]
          },
          "metadata": {
            "tags": []
          },
          "execution_count": 53
        }
      ]
    },
    {
      "cell_type": "code",
      "metadata": {
        "colab": {
          "base_uri": "https://localhost:8080/"
        },
        "id": "G5grW5FMtv_L",
        "outputId": "54cf9310-43e2-46b4-d0b4-f964ec7645f8"
      },
      "source": [
        "for i in range(len(my_list)):\n",
        "  my_list[i] += 5\n",
        "my_list"
      ],
      "execution_count": null,
      "outputs": [
        {
          "output_type": "execute_result",
          "data": {
            "text/plain": [
              "[7, 12, 13, -8, 17, 8]"
            ]
          },
          "metadata": {
            "tags": []
          },
          "execution_count": 54
        }
      ]
    },
    {
      "cell_type": "markdown",
      "metadata": {
        "id": "xFBPNvpTuFRH"
      },
      "source": [
        "### Dictionaries"
      ]
    },
    {
      "cell_type": "code",
      "metadata": {
        "id": "HPO0oXVzul26"
      },
      "source": [
        "majors = {\"Carson\": \"Computer Engineering\", \"Ishaan\": \"Applied Math/Computer Science\"}"
      ],
      "execution_count": null,
      "outputs": []
    },
    {
      "cell_type": "code",
      "metadata": {
        "colab": {
          "base_uri": "https://localhost:8080/",
          "height": 35
        },
        "id": "gGnUAqOeusSw",
        "outputId": "53ef9794-ffb4-4ddc-ca52-164860d236ee"
      },
      "source": [
        "majors[\"Ishaan\"]"
      ],
      "execution_count": null,
      "outputs": [
        {
          "output_type": "execute_result",
          "data": {
            "application/vnd.google.colaboratory.intrinsic+json": {
              "type": "string"
            },
            "text/plain": [
              "'Applied Math/Computer Science'"
            ]
          },
          "metadata": {
            "tags": []
          },
          "execution_count": 56
        }
      ]
    },
    {
      "cell_type": "markdown",
      "metadata": {
        "id": "B1LgMws2UwHC"
      },
      "source": [
        "##NumPy"
      ]
    },
    {
      "cell_type": "code",
      "metadata": {
        "id": "gplZYmzS9-kv"
      },
      "source": [
        "import numpy as np"
      ],
      "execution_count": null,
      "outputs": []
    },
    {
      "cell_type": "markdown",
      "metadata": {
        "id": "BwZpTd84-W5m"
      },
      "source": [
        "### Arrays"
      ]
    },
    {
      "cell_type": "code",
      "metadata": {
        "colab": {
          "base_uri": "https://localhost:8080/"
        },
        "id": "eBB4ckY6-YaY",
        "outputId": "8bb2f6cf-663a-4701-841f-4a92f0e00c0f"
      },
      "source": [
        "arr = np.array([1, 2, 3, 4, 5])\n",
        "arr"
      ],
      "execution_count": null,
      "outputs": [
        {
          "output_type": "execute_result",
          "data": {
            "text/plain": [
              "array([1, 2, 3, 4, 5])"
            ]
          },
          "metadata": {
            "tags": []
          },
          "execution_count": 74
        }
      ]
    },
    {
      "cell_type": "code",
      "metadata": {
        "colab": {
          "base_uri": "https://localhost:8080/"
        },
        "id": "1XOxQmkJ_Fas",
        "outputId": "c62ba735-a9d9-4926-9866-ecdddeb7f124"
      },
      "source": [
        "arr2 = np.array([5, 2, 6, 8, 4])  # adding arrays\n",
        "arr + arr2"
      ],
      "execution_count": null,
      "outputs": [
        {
          "output_type": "execute_result",
          "data": {
            "text/plain": [
              "array([ 6,  4,  9, 12,  9])"
            ]
          },
          "metadata": {
            "tags": []
          },
          "execution_count": 75
        }
      ]
    },
    {
      "cell_type": "code",
      "metadata": {
        "colab": {
          "base_uri": "https://localhost:8080/"
        },
        "id": "TMJ9s8aN_C_D",
        "outputId": "9fa3d82c-0af6-4aea-e46c-7125255dd6df"
      },
      "source": [
        "arr * 3   # multiply array by scalar"
      ],
      "execution_count": null,
      "outputs": [
        {
          "output_type": "execute_result",
          "data": {
            "text/plain": [
              "array([ 3,  6,  9, 12, 15])"
            ]
          },
          "metadata": {
            "tags": []
          },
          "execution_count": 76
        }
      ]
    },
    {
      "cell_type": "code",
      "metadata": {
        "id": "H0u7FcV8XPRP",
        "colab": {
          "base_uri": "https://localhost:8080/"
        },
        "outputId": "283d96c3-b6a6-49bb-a615-70a8c1444a63"
      },
      "source": [
        "arr2D = np.array([[1, 2, 3], [4, 5, 6]])\n",
        "arr2D"
      ],
      "execution_count": null,
      "outputs": [
        {
          "output_type": "execute_result",
          "data": {
            "text/plain": [
              "array([[1, 2, 3],\n",
              "       [4, 5, 6]])"
            ]
          },
          "metadata": {
            "tags": []
          },
          "execution_count": 77
        }
      ]
    },
    {
      "cell_type": "code",
      "metadata": {
        "id": "PnA7ZpjTaoU3",
        "colab": {
          "base_uri": "https://localhost:8080/"
        },
        "outputId": "db3b1834-8e87-491c-cb1d-10908b331326"
      },
      "source": [
        "arr2D[:, 0]   # array indexing"
      ],
      "execution_count": null,
      "outputs": [
        {
          "output_type": "execute_result",
          "data": {
            "text/plain": [
              "array([1, 4])"
            ]
          },
          "metadata": {
            "tags": []
          },
          "execution_count": 78
        }
      ]
    },
    {
      "cell_type": "code",
      "metadata": {
        "id": "QJcQ_2jsXTcQ",
        "colab": {
          "base_uri": "https://localhost:8080/"
        },
        "outputId": "5de8981b-fafe-4191-bdf2-b5491a39aa55"
      },
      "source": [
        "arr3D = np.array([[[1, 2, 3], [4, 5, 6]], [[1, 2, 3], [4, 5, 6]]])\n",
        "arr3D"
      ],
      "execution_count": null,
      "outputs": [
        {
          "output_type": "execute_result",
          "data": {
            "text/plain": [
              "array([[[1, 2, 3],\n",
              "        [4, 5, 6]],\n",
              "\n",
              "       [[1, 2, 3],\n",
              "        [4, 5, 6]]])"
            ]
          },
          "metadata": {
            "tags": []
          },
          "execution_count": 79
        }
      ]
    },
    {
      "cell_type": "code",
      "metadata": {
        "id": "8aunKS2yXY0v",
        "colab": {
          "base_uri": "https://localhost:8080/"
        },
        "outputId": "4d7b422f-63a5-4feb-f500-ce063e23de4d"
      },
      "source": [
        "arr3D.ndim"
      ],
      "execution_count": null,
      "outputs": [
        {
          "output_type": "execute_result",
          "data": {
            "text/plain": [
              "3"
            ]
          },
          "metadata": {
            "tags": []
          },
          "execution_count": 80
        }
      ]
    },
    {
      "cell_type": "code",
      "metadata": {
        "id": "fd50LhhbXlZu",
        "colab": {
          "base_uri": "https://localhost:8080/"
        },
        "outputId": "268c1f25-b26c-4e23-a9a7-31e859c52daa"
      },
      "source": [
        "arr3D.shape"
      ],
      "execution_count": null,
      "outputs": [
        {
          "output_type": "execute_result",
          "data": {
            "text/plain": [
              "(2, 2, 3)"
            ]
          },
          "metadata": {
            "tags": []
          },
          "execution_count": 81
        }
      ]
    },
    {
      "cell_type": "code",
      "metadata": {
        "id": "jT5zJcGxX-cV",
        "colab": {
          "base_uri": "https://localhost:8080/"
        },
        "outputId": "0be54b50-230d-46a0-e363-20ac42bf4cdc"
      },
      "source": [
        "print(arr3D.transpose())\n",
        "print()\n",
        "print('original:')\n",
        "print(arr3D)"
      ],
      "execution_count": null,
      "outputs": [
        {
          "output_type": "stream",
          "text": [
            "[[[1 1]\n",
            "  [4 4]]\n",
            "\n",
            " [[2 2]\n",
            "  [5 5]]\n",
            "\n",
            " [[3 3]\n",
            "  [6 6]]]\n",
            "\n",
            "original:\n",
            "[[[1 2 3]\n",
            "  [4 5 6]]\n",
            "\n",
            " [[1 2 3]\n",
            "  [4 5 6]]]\n"
          ],
          "name": "stdout"
        }
      ]
    },
    {
      "cell_type": "markdown",
      "metadata": {
        "id": "0wB2hICU-MeS"
      },
      "source": [
        "### Vectors"
      ]
    },
    {
      "cell_type": "code",
      "metadata": {
        "id": "vxUCW0jZEbUe",
        "colab": {
          "base_uri": "https://localhost:8080/"
        },
        "outputId": "911b2151-12b1-49ea-d8c8-b828d569660a"
      },
      "source": [
        "v1 = np.array([[1, 2, 3]])\n",
        "v2 = np.array([[2],[1],[3]])\n",
        "\n",
        "print(v1, '\\n')\n",
        "print(v2)"
      ],
      "execution_count": null,
      "outputs": [
        {
          "output_type": "stream",
          "text": [
            "[[1 2 3]] \n",
            "\n",
            "[[2]\n",
            " [1]\n",
            " [3]]\n"
          ],
          "name": "stdout"
        }
      ]
    },
    {
      "cell_type": "code",
      "metadata": {
        "id": "7eHhLJ0UVThP",
        "colab": {
          "base_uri": "https://localhost:8080/"
        },
        "outputId": "4b5dff50-d162-4d04-ae98-4247b6171b48"
      },
      "source": [
        "dot = np.dot(v1, v2)\n",
        "print(dot)"
      ],
      "execution_count": null,
      "outputs": [
        {
          "output_type": "stream",
          "text": [
            "[[13]]\n"
          ],
          "name": "stdout"
        }
      ]
    },
    {
      "cell_type": "markdown",
      "metadata": {
        "id": "c71xhTCC-lZC"
      },
      "source": [
        "### Matrices"
      ]
    },
    {
      "cell_type": "code",
      "metadata": {
        "id": "O_eCopBlYZLt",
        "colab": {
          "base_uri": "https://localhost:8080/"
        },
        "outputId": "86d1c948-84ca-4b40-8cd8-9e5b103e15f3"
      },
      "source": [
        "matrix = np.array([[1, 2], [3, 4]])\n",
        "matrix"
      ],
      "execution_count": null,
      "outputs": [
        {
          "output_type": "execute_result",
          "data": {
            "text/plain": [
              "array([[1, 2],\n",
              "       [3, 4]])"
            ]
          },
          "metadata": {
            "tags": []
          },
          "execution_count": 85
        }
      ]
    },
    {
      "cell_type": "code",
      "metadata": {
        "id": "F6KhBIEdYqXE",
        "colab": {
          "base_uri": "https://localhost:8080/"
        },
        "outputId": "e0081fa0-877f-4028-8467-5797e9c732f8"
      },
      "source": [
        "matrix*3"
      ],
      "execution_count": null,
      "outputs": [
        {
          "output_type": "execute_result",
          "data": {
            "text/plain": [
              "array([[ 3,  6],\n",
              "       [ 9, 12]])"
            ]
          },
          "metadata": {
            "tags": []
          },
          "execution_count": 86
        }
      ]
    },
    {
      "cell_type": "code",
      "metadata": {
        "colab": {
          "base_uri": "https://localhost:8080/"
        },
        "id": "x2kI3stk5-Lv",
        "outputId": "cc9d4300-84fa-4308-f167-125cc3be3160"
      },
      "source": [
        "matrix2 = np.array([[-2, 1], [3/2, -1/2]])\n",
        "matrix + matrix2  # matrix addition, must have same dimensions"
      ],
      "execution_count": null,
      "outputs": [
        {
          "output_type": "execute_result",
          "data": {
            "text/plain": [
              "array([[-1. ,  3. ],\n",
              "       [ 4.5,  3.5]])"
            ]
          },
          "metadata": {
            "tags": []
          },
          "execution_count": 87
        }
      ]
    },
    {
      "cell_type": "code",
      "metadata": {
        "colab": {
          "base_uri": "https://localhost:8080/"
        },
        "id": "fS9aElNf5700",
        "outputId": "e6a12362-aae4-42e1-f354-9f1945a6a0bf"
      },
      "source": [
        "np.matmul(matrix, matrix2)  # matrix multiplication"
      ],
      "execution_count": null,
      "outputs": [
        {
          "output_type": "execute_result",
          "data": {
            "text/plain": [
              "array([[1., 0.],\n",
              "       [0., 1.]])"
            ]
          },
          "metadata": {
            "tags": []
          },
          "execution_count": 88
        }
      ]
    },
    {
      "cell_type": "code",
      "metadata": {
        "colab": {
          "base_uri": "https://localhost:8080/"
        },
        "id": "Vn8NUuk6_qBH",
        "outputId": "9053668a-d911-49d1-8066-f387173f171d"
      },
      "source": [
        "np.matmul(matrix2, matrix)  # matrix mutiplication is NOT COMMUTATIVE"
      ],
      "execution_count": null,
      "outputs": [
        {
          "output_type": "execute_result",
          "data": {
            "text/plain": [
              "array([[1., 0.],\n",
              "       [0., 1.]])"
            ]
          },
          "metadata": {
            "tags": []
          },
          "execution_count": 89
        }
      ]
    },
    {
      "cell_type": "code",
      "metadata": {
        "id": "cmcTCAKF6XZ8"
      },
      "source": [
        "vector = np.array([[3],\n",
        "                   [4]])"
      ],
      "execution_count": null,
      "outputs": []
    },
    {
      "cell_type": "code",
      "metadata": {
        "colab": {
          "base_uri": "https://localhost:8080/"
        },
        "id": "SoEPaVdd6fyc",
        "outputId": "455ba6dc-2746-4828-d69a-186e88ee1c0e"
      },
      "source": [
        "np.dot(matrix, vector)  # matrix-vector multiplication"
      ],
      "execution_count": null,
      "outputs": [
        {
          "output_type": "execute_result",
          "data": {
            "text/plain": [
              "array([[11],\n",
              "       [25]])"
            ]
          },
          "metadata": {
            "tags": []
          },
          "execution_count": 91
        }
      ]
    },
    {
      "cell_type": "code",
      "metadata": {
        "colab": {
          "base_uri": "https://localhost:8080/"
        },
        "id": "Gv2ujPDDAOUr",
        "outputId": "11027138-4936-46af-ce8d-88d30b77f9fe"
      },
      "source": [
        "np.eye(2)   # identity matrix"
      ],
      "execution_count": null,
      "outputs": [
        {
          "output_type": "execute_result",
          "data": {
            "text/plain": [
              "array([[1., 0.],\n",
              "       [0., 1.]])"
            ]
          },
          "metadata": {
            "tags": []
          },
          "execution_count": 92
        }
      ]
    },
    {
      "cell_type": "code",
      "metadata": {
        "colab": {
          "base_uri": "https://localhost:8080/"
        },
        "id": "uhz30fbU62FE",
        "outputId": "f8fdae65-0d92-4e8a-9a37-225c0dfcaca1"
      },
      "source": [
        "np.linalg.inv(matrix)   # matrix inverse"
      ],
      "execution_count": null,
      "outputs": [
        {
          "output_type": "execute_result",
          "data": {
            "text/plain": [
              "array([[-2. ,  1. ],\n",
              "       [ 1.5, -0.5]])"
            ]
          },
          "metadata": {
            "tags": []
          },
          "execution_count": 93
        }
      ]
    },
    {
      "cell_type": "code",
      "metadata": {
        "colab": {
          "base_uri": "https://localhost:8080/"
        },
        "id": "LZJqW2kdABFV",
        "outputId": "49b92251-f2d5-46e8-f8e5-a4409e4e8085"
      },
      "source": [
        "np.matmul(matrix, np.linalg.inv(matrix))  # a matrix times its inverse is the identity matrix"
      ],
      "execution_count": null,
      "outputs": [
        {
          "output_type": "execute_result",
          "data": {
            "text/plain": [
              "array([[1.0000000e+00, 0.0000000e+00],\n",
              "       [8.8817842e-16, 1.0000000e+00]])"
            ]
          },
          "metadata": {
            "tags": []
          },
          "execution_count": 94
        }
      ]
    },
    {
      "cell_type": "code",
      "metadata": {
        "colab": {
          "base_uri": "https://localhost:8080/",
          "height": 392
        },
        "id": "IEYSUzqn7Eno",
        "outputId": "d7724c5a-bf7c-4035-9769-77819e7df201"
      },
      "source": [
        "matrix = np.array([[1, -2],\n",
        "                   [-3, 6]])\n",
        "np.linalg.inv(matrix)   # not every matrix has an inverse!"
      ],
      "execution_count": null,
      "outputs": [
        {
          "output_type": "error",
          "ename": "LinAlgError",
          "evalue": "ignored",
          "traceback": [
            "\u001b[0;31m---------------------------------------------------------------------------\u001b[0m",
            "\u001b[0;31mLinAlgError\u001b[0m                               Traceback (most recent call last)",
            "\u001b[0;32m<ipython-input-95-71ebccf5d383>\u001b[0m in \u001b[0;36m<module>\u001b[0;34m()\u001b[0m\n\u001b[1;32m      1\u001b[0m matrix = np.array([[1, -2],\n\u001b[1;32m      2\u001b[0m                    [-3, 6]])\n\u001b[0;32m----> 3\u001b[0;31m \u001b[0mnp\u001b[0m\u001b[0;34m.\u001b[0m\u001b[0mlinalg\u001b[0m\u001b[0;34m.\u001b[0m\u001b[0minv\u001b[0m\u001b[0;34m(\u001b[0m\u001b[0mmatrix\u001b[0m\u001b[0;34m)\u001b[0m   \u001b[0;31m# not every matrix has an inverse!\u001b[0m\u001b[0;34m\u001b[0m\u001b[0;34m\u001b[0m\u001b[0m\n\u001b[0m",
            "\u001b[0;32m<__array_function__ internals>\u001b[0m in \u001b[0;36minv\u001b[0;34m(*args, **kwargs)\u001b[0m\n",
            "\u001b[0;32m/usr/local/lib/python3.7/dist-packages/numpy/linalg/linalg.py\u001b[0m in \u001b[0;36minv\u001b[0;34m(a)\u001b[0m\n\u001b[1;32m    544\u001b[0m     \u001b[0msignature\u001b[0m \u001b[0;34m=\u001b[0m \u001b[0;34m'D->D'\u001b[0m \u001b[0;32mif\u001b[0m \u001b[0misComplexType\u001b[0m\u001b[0;34m(\u001b[0m\u001b[0mt\u001b[0m\u001b[0;34m)\u001b[0m \u001b[0;32melse\u001b[0m \u001b[0;34m'd->d'\u001b[0m\u001b[0;34m\u001b[0m\u001b[0;34m\u001b[0m\u001b[0m\n\u001b[1;32m    545\u001b[0m     \u001b[0mextobj\u001b[0m \u001b[0;34m=\u001b[0m \u001b[0mget_linalg_error_extobj\u001b[0m\u001b[0;34m(\u001b[0m\u001b[0m_raise_linalgerror_singular\u001b[0m\u001b[0;34m)\u001b[0m\u001b[0;34m\u001b[0m\u001b[0;34m\u001b[0m\u001b[0m\n\u001b[0;32m--> 546\u001b[0;31m     \u001b[0mainv\u001b[0m \u001b[0;34m=\u001b[0m \u001b[0m_umath_linalg\u001b[0m\u001b[0;34m.\u001b[0m\u001b[0minv\u001b[0m\u001b[0;34m(\u001b[0m\u001b[0ma\u001b[0m\u001b[0;34m,\u001b[0m \u001b[0msignature\u001b[0m\u001b[0;34m=\u001b[0m\u001b[0msignature\u001b[0m\u001b[0;34m,\u001b[0m \u001b[0mextobj\u001b[0m\u001b[0;34m=\u001b[0m\u001b[0mextobj\u001b[0m\u001b[0;34m)\u001b[0m\u001b[0;34m\u001b[0m\u001b[0;34m\u001b[0m\u001b[0m\n\u001b[0m\u001b[1;32m    547\u001b[0m     \u001b[0;32mreturn\u001b[0m \u001b[0mwrap\u001b[0m\u001b[0;34m(\u001b[0m\u001b[0mainv\u001b[0m\u001b[0;34m.\u001b[0m\u001b[0mastype\u001b[0m\u001b[0;34m(\u001b[0m\u001b[0mresult_t\u001b[0m\u001b[0;34m,\u001b[0m \u001b[0mcopy\u001b[0m\u001b[0;34m=\u001b[0m\u001b[0;32mFalse\u001b[0m\u001b[0;34m)\u001b[0m\u001b[0;34m)\u001b[0m\u001b[0;34m\u001b[0m\u001b[0;34m\u001b[0m\u001b[0m\n\u001b[1;32m    548\u001b[0m \u001b[0;34m\u001b[0m\u001b[0m\n",
            "\u001b[0;32m/usr/local/lib/python3.7/dist-packages/numpy/linalg/linalg.py\u001b[0m in \u001b[0;36m_raise_linalgerror_singular\u001b[0;34m(err, flag)\u001b[0m\n\u001b[1;32m     86\u001b[0m \u001b[0;34m\u001b[0m\u001b[0m\n\u001b[1;32m     87\u001b[0m \u001b[0;32mdef\u001b[0m \u001b[0m_raise_linalgerror_singular\u001b[0m\u001b[0;34m(\u001b[0m\u001b[0merr\u001b[0m\u001b[0;34m,\u001b[0m \u001b[0mflag\u001b[0m\u001b[0;34m)\u001b[0m\u001b[0;34m:\u001b[0m\u001b[0;34m\u001b[0m\u001b[0;34m\u001b[0m\u001b[0m\n\u001b[0;32m---> 88\u001b[0;31m     \u001b[0;32mraise\u001b[0m \u001b[0mLinAlgError\u001b[0m\u001b[0;34m(\u001b[0m\u001b[0;34m\"Singular matrix\"\u001b[0m\u001b[0;34m)\u001b[0m\u001b[0;34m\u001b[0m\u001b[0;34m\u001b[0m\u001b[0m\n\u001b[0m\u001b[1;32m     89\u001b[0m \u001b[0;34m\u001b[0m\u001b[0m\n\u001b[1;32m     90\u001b[0m \u001b[0;32mdef\u001b[0m \u001b[0m_raise_linalgerror_nonposdef\u001b[0m\u001b[0;34m(\u001b[0m\u001b[0merr\u001b[0m\u001b[0;34m,\u001b[0m \u001b[0mflag\u001b[0m\u001b[0;34m)\u001b[0m\u001b[0;34m:\u001b[0m\u001b[0;34m\u001b[0m\u001b[0;34m\u001b[0m\u001b[0m\n",
            "\u001b[0;31mLinAlgError\u001b[0m: Singular matrix"
          ]
        }
      ]
    }
  ]
}