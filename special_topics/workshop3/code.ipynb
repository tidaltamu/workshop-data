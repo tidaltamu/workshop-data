{
  "nbformat": 4,
  "nbformat_minor": 0,
  "metadata": {
    "colab": {
      "name": "workshop3_optimization.ipynb",
      "provenance": [],
      "collapsed_sections": [],
      "include_colab_link": true
    },
    "kernelspec": {
      "name": "python3",
      "display_name": "Python 3"
    }
  },
  "cells": [
    {
      "cell_type": "markdown",
      "metadata": {
        "id": "view-in-github",
        "colab_type": "text"
      },
      "source": [
        "<a href=\"https://colab.research.google.com/github/tidaltamu/workshops/blob/main/special_topics/workshop3/code.ipynb\" target=\"_parent\"><img src=\"https://colab.research.google.com/assets/colab-badge.svg\" alt=\"Open In Colab\"/></a>"
      ]
    },
    {
      "cell_type": "code",
      "metadata": {
        "id": "jbYNAQtkyigZ"
      },
      "source": [
        ""
      ],
      "execution_count": null,
      "outputs": []
    },
    {
      "cell_type": "markdown",
      "metadata": {
        "id": "RKxoZ5lknWll"
      },
      "source": [
        "### Import Libraries"
      ]
    },
    {
      "cell_type": "code",
      "metadata": {
        "id": "Lq6qDjhHnbak"
      },
      "source": [
        "import numpy as np\n",
        "import matplotlib.pyplot as plt\n",
        "import math as mt"
      ],
      "execution_count": null,
      "outputs": []
    },
    {
      "cell_type": "markdown",
      "metadata": {
        "id": "W5b_-H-zn3_O"
      },
      "source": [
        "### Read Data"
      ]
    },
    {
      "cell_type": "code",
      "metadata": {
        "id": "T1a23JYWn5oM",
        "colab": {
          "base_uri": "https://localhost:8080/"
        },
        "outputId": "c4aa0b7a-b1d9-4406-c24d-f1ec33dacb3b"
      },
      "source": [
        "#genfromtxt - \n",
        "data = np.genfromtxt('https://raw.githubusercontent.com/kaustubholpadkar/Linear_Regression-Gradient_Descent-Octave/master/data.csv', delimiter=',')\n",
        "data"
      ],
      "execution_count": null,
      "outputs": [
        {
          "output_type": "execute_result",
          "data": {
            "text/plain": [
              "array([[ 32.50234527,  31.70700585],\n",
              "       [ 53.42680403,  68.77759598],\n",
              "       [ 61.53035803,  62.5623823 ],\n",
              "       [ 47.47563963,  71.54663223],\n",
              "       [ 59.81320787,  87.23092513],\n",
              "       [ 55.14218841,  78.21151827],\n",
              "       [ 52.21179669,  79.64197305],\n",
              "       [ 39.29956669,  59.17148932],\n",
              "       [ 48.10504169,  75.3312423 ],\n",
              "       [ 52.55001444,  71.30087989],\n",
              "       [ 45.41973014,  55.16567715],\n",
              "       [ 54.35163488,  82.47884676],\n",
              "       [ 44.1640495 ,  62.00892325],\n",
              "       [ 58.16847072,  75.39287043],\n",
              "       [ 56.72720806,  81.43619216],\n",
              "       [ 48.95588857,  60.72360244],\n",
              "       [ 44.68719623,  82.89250373],\n",
              "       [ 60.29732685,  97.37989686],\n",
              "       [ 45.61864377,  48.84715332],\n",
              "       [ 38.81681754,  56.87721319],\n",
              "       [ 66.18981661,  83.87856466],\n",
              "       [ 65.41605175, 118.5912173 ],\n",
              "       [ 47.48120861,  57.25181946],\n",
              "       [ 41.57564262,  51.39174408],\n",
              "       [ 51.84518691,  75.38065167],\n",
              "       [ 59.37082201,  74.76556403],\n",
              "       [ 57.31000344,  95.45505292],\n",
              "       [ 63.61556125,  95.22936602],\n",
              "       [ 46.73761941,  79.05240617],\n",
              "       [ 50.55676015,  83.43207142],\n",
              "       [ 52.22399609,  63.35879032],\n",
              "       [ 35.56783005,  41.4128853 ],\n",
              "       [ 42.43647694,  76.61734128],\n",
              "       [ 58.16454011,  96.76956643],\n",
              "       [ 57.50444762,  74.08413012],\n",
              "       [ 45.44053073,  66.58814441],\n",
              "       [ 61.89622268,  77.76848242],\n",
              "       [ 33.09383174,  50.71958891],\n",
              "       [ 36.43600951,  62.12457082],\n",
              "       [ 37.67565486,  60.81024665],\n",
              "       [ 44.55560838,  52.68298337],\n",
              "       [ 43.31828263,  58.56982472],\n",
              "       [ 50.07314563,  82.90598149],\n",
              "       [ 43.87061265,  61.4247098 ],\n",
              "       [ 62.99748075, 115.2441528 ],\n",
              "       [ 32.66904376,  45.57058882],\n",
              "       [ 40.16689901,  54.0840548 ],\n",
              "       [ 53.57507753,  87.99445276],\n",
              "       [ 33.86421497,  52.72549438],\n",
              "       [ 64.70713867,  93.57611869],\n",
              "       [ 38.11982403,  80.16627545],\n",
              "       [ 44.50253806,  65.10171157],\n",
              "       [ 40.59953838,  65.56230126],\n",
              "       [ 41.72067636,  65.28088692],\n",
              "       [ 51.08863468,  73.43464155],\n",
              "       [ 55.0780959 ,  71.13972786],\n",
              "       [ 41.37772653,  79.10282968],\n",
              "       [ 62.49469743,  86.52053844],\n",
              "       [ 49.20388754,  84.74269781],\n",
              "       [ 41.10268519,  59.35885025],\n",
              "       [ 41.18201611,  61.68403752],\n",
              "       [ 50.18638949,  69.84760416],\n",
              "       [ 52.37844622,  86.09829121],\n",
              "       [ 50.13548549,  59.10883927],\n",
              "       [ 33.64470601,  69.89968164],\n",
              "       [ 39.55790122,  44.86249071],\n",
              "       [ 56.13038882,  85.49806778],\n",
              "       [ 57.36205213,  95.53668685],\n",
              "       [ 60.26921439,  70.25193442],\n",
              "       [ 35.67809389,  52.72173496],\n",
              "       [ 31.588117  ,  50.39267014],\n",
              "       [ 53.66093226,  63.64239878],\n",
              "       [ 46.68222865,  72.24725107],\n",
              "       [ 43.10782022,  57.81251298],\n",
              "       [ 70.34607562, 104.25710159],\n",
              "       [ 44.49285588,  86.64202032],\n",
              "       [ 57.5045333 ,  91.486778  ],\n",
              "       [ 36.93007661,  55.23166089],\n",
              "       [ 55.80573336,  79.55043668],\n",
              "       [ 38.95476907,  44.84712424],\n",
              "       [ 56.9012147 ,  80.20752314],\n",
              "       [ 56.86890066,  83.14274979],\n",
              "       [ 34.3331247 ,  55.72348926],\n",
              "       [ 59.04974121,  77.63418251],\n",
              "       [ 57.78822399,  99.05141484],\n",
              "       [ 54.28232871,  79.12064627],\n",
              "       [ 51.0887199 ,  69.58889785],\n",
              "       [ 50.28283635,  69.51050331],\n",
              "       [ 44.21174175,  73.68756432],\n",
              "       [ 38.00548801,  61.36690454],\n",
              "       [ 32.94047994,  67.17065577],\n",
              "       [ 53.69163957,  85.66820315],\n",
              "       [ 68.76573427, 114.85387123],\n",
              "       [ 46.2309665 ,  90.12357207],\n",
              "       [ 68.31936082,  97.91982104],\n",
              "       [ 50.03017434,  81.53699078],\n",
              "       [ 49.23976534,  72.11183247],\n",
              "       [ 50.03957594,  85.23200734],\n",
              "       [ 48.14985889,  66.22495789],\n",
              "       [ 25.12848465,  53.45439421]])"
            ]
          },
          "metadata": {
            "tags": []
          },
          "execution_count": 2
        }
      ]
    },
    {
      "cell_type": "code",
      "metadata": {
        "id": "Ip2EQ_PGoQJO",
        "colab": {
          "base_uri": "https://localhost:8080/"
        },
        "outputId": "fb243b1c-6db6-474d-8a4e-b4e1824c0a98"
      },
      "source": [
        "data.shape"
      ],
      "execution_count": null,
      "outputs": [
        {
          "output_type": "execute_result",
          "data": {
            "text/plain": [
              "(100, 2)"
            ]
          },
          "metadata": {
            "tags": []
          },
          "execution_count": 3
        }
      ]
    },
    {
      "cell_type": "markdown",
      "metadata": {
        "id": "8rMv-L53odN5"
      },
      "source": [
        "### Seperate Data into X and Y"
      ]
    },
    {
      "cell_type": "code",
      "metadata": {
        "id": "uop_AFQSolHl"
      },
      "source": [
        "X = data[:, 0]\n",
        "Y = data[:, 1]"
      ],
      "execution_count": null,
      "outputs": []
    },
    {
      "cell_type": "markdown",
      "metadata": {
        "id": "wPSTKDAXpLAN"
      },
      "source": [
        "### Visualize the Data"
      ]
    },
    {
      "cell_type": "code",
      "metadata": {
        "id": "qdTK7EOQpL5Y",
        "colab": {
          "base_uri": "https://localhost:8080/",
          "height": 312
        },
        "outputId": "7eec49ce-fca4-4a8c-bba0-d1c3337519dd"
      },
      "source": [
        "fig = plt.figure()\n",
        "plt.scatter(X, Y)\n",
        "fig.suptitle('Student Data : Expected Marks vs Hours of Study', fontsize=18)\n",
        "plt.xlabel('Hours of Study', fontsize=14)\n",
        "plt.ylabel('Expected Marks', fontsize=14)\n",
        "plt.show()"
      ],
      "execution_count": null,
      "outputs": [
        {
          "output_type": "display_data",
          "data": {
            "image/png": "[encoded data removed]",
            "text/plain": [
              "<Figure size 432x288 with 1 Axes>"
            ]
          },
          "metadata": {
            "tags": [],
            "needs_background": "light"
          }
        }
      ]
    },
    {
      "cell_type": "markdown",
      "metadata": {
        "id": "Yrjucdifq_mt"
      },
      "source": [
        "### Hyperparameters"
      ]
    },
    {
      "cell_type": "code",
      "metadata": {
        "id": "OwVfkk3RrC_I"
      },
      "source": [
        "learning_rate = 0.0001\n",
        "max_iteration = 50"
      ],
      "execution_count": null,
      "outputs": []
    },
    {
      "cell_type": "markdown",
      "metadata": {
        "id": "EzXaG70OrZtn"
      },
      "source": [
        "### Parameters"
      ]
    },
    {
      "cell_type": "code",
      "metadata": {
        "id": "2INJM9AIrcBu"
      },
      "source": [
        "m = 0\n",
        "b = 0"
      ],
      "execution_count": null,
      "outputs": []
    },
    {
      "cell_type": "markdown",
      "metadata": {
        "id": "FPt2eKjBr1Lx"
      },
      "source": [
        "### Hypothesis"
      ]
    },
    {
      "cell_type": "code",
      "metadata": {
        "id": "enVE4tHWsBBF"
      },
      "source": [
        "def h (m, b, X) :\n",
        "  return m * X + b"
      ],
      "execution_count": null,
      "outputs": []
    },
    {
      "cell_type": "markdown",
      "metadata": {
        "id": "IA9I6vaXs7nb"
      },
      "source": [
        "### Loss Function"
      ]
    },
    {
      "cell_type": "markdown",
      "metadata": {
        "id": "DNgHfFIlLLzD"
      },
      "source": [
        "\n",
        "A loss function is a way to map the performance of our model into a real number. It measures how well the model is performing its task like a linear regression model fitting the data to a line. The loss function is particularly important in learning since it is what guides the update of the parameters so that the model can perform better.\n",
        "\n",
        "An example of loss is mean sqaured error. It measures the average squared distance between two sets of values. A large MSE indicates data points being widely spread, while a small MSE indicates the opposite.\n",
        "\n",
        "A good intuition for the squared loss is that it will drive the model towards the mean of the training set, therefore it is sensitive to outliers. Our goal is to obviously minimize the Loss so the regression line predicts more accurately."
      ]
    },
    {
      "cell_type": "code",
      "metadata": {
        "id": "3KOQVUjBs-Ub"
      },
      "source": [
        "def loss (m, b, X, Y) :\n",
        "  return np.average(np.square(Y - h(m, b, X))) / 2"
      ],
      "execution_count": null,
      "outputs": []
    },
    {
      "cell_type": "markdown",
      "metadata": {
        "id": "7TE79NG-tyLG"
      },
      "source": [
        "### Calculate Gradients"
      ]
    },
    {
      "cell_type": "code",
      "metadata": {
        "id": "yy9yxye4t0BJ"
      },
      "source": [
        "def gradient (m, b, X, Y) :\n",
        "  dm = - np.average((Y - h(m, b, X)) * X)\n",
        "  db = - np.average(Y - h(m, b, X))\n",
        "  return (dm, db)"
      ],
      "execution_count": null,
      "outputs": []
    },
    {
      "cell_type": "markdown",
      "metadata": {
        "id": "jVo5TbKyu9KL"
      },
      "source": [
        "### Gradient Descent"
      ]
    },
    {
      "cell_type": "code",
      "metadata": {
        "id": "fprg4-tcu-4v"
      },
      "source": [
        "def gradient_descent (m, b, X, Y, learning_rate, max_iteration) :\n",
        "  for i in range(max_iteration) :\n",
        "    dm, db = gradient (m, b, X, Y)\n",
        "    m -= learning_rate * dm\n",
        "    b -= learning_rate * db\n",
        "    if i % 10 == 0 :\n",
        "      print ('iteration : ', i, ' loss : ', loss(m, b, X, Y)) \n",
        "  return (m, b)"
      ],
      "execution_count": null,
      "outputs": []
    },
    {
      "cell_type": "markdown",
      "metadata": {
        "id": "uMIZFxUhwQZO"
      },
      "source": [
        "### Train Model"
      ]
    },
    {
      "cell_type": "code",
      "metadata": {
        "id": "-0okDGSCwUC7",
        "colab": {
          "base_uri": "https://localhost:8080/"
        },
        "outputId": "2c78f14e-9a88-47fe-da02-27796d51f7ad"
      },
      "source": [
        "m, b = gradient_descent (m, b, X, Y, learning_rate, max_iteration)"
      ],
      "execution_count": null,
      "outputs": [
        {
          "output_type": "stream",
          "text": [
            "iteration :  0  loss :  1593.1334591670338\n",
            "iteration :  10  loss :  61.30482288585254\n",
            "iteration :  20  loss :  56.34127863702311\n",
            "iteration :  30  loss :  56.32510567688097\n",
            "iteration :  40  loss :  56.324963270541446\n"
          ],
          "name": "stdout"
        }
      ]
    },
    {
      "cell_type": "markdown",
      "metadata": {
        "id": "MFp2MUlexVd5"
      },
      "source": [
        "### Optimal values of Parameters using Trained Model"
      ]
    },
    {
      "cell_type": "code",
      "metadata": {
        "id": "tcMQWkuvwYu7",
        "colab": {
          "base_uri": "https://localhost:8080/"
        },
        "outputId": "76cce7c1-fbb0-4759-ccfa-0216050eae59"
      },
      "source": [
        "m, b"
      ],
      "execution_count": null,
      "outputs": [
        {
          "output_type": "execute_result",
          "data": {
            "text/plain": [
              "(1.4788903781318357, 0.030569950649287976)"
            ]
          },
          "metadata": {
            "tags": []
          },
          "execution_count": 13
        }
      ]
    },
    {
      "cell_type": "markdown",
      "metadata": {
        "id": "vsa_VlHd8ged"
      },
      "source": [
        "### Linear Regression using *polyfit*  function of **numpy**"
      ]
    },
    {
      "cell_type": "code",
      "metadata": {
        "id": "WJajnpzW8p2L"
      },
      "source": [
        "np_m, np_b = np.polyfit(X, Y, 1)"
      ],
      "execution_count": null,
      "outputs": []
    },
    {
      "cell_type": "markdown",
      "metadata": {
        "id": "MjJ7Di8z8-Qb"
      },
      "source": [
        "### Optimal values of Parameters using Numpy Linear Regression"
      ]
    },
    {
      "cell_type": "code",
      "metadata": {
        "id": "z4G5h9Ki7IJi",
        "colab": {
          "base_uri": "https://localhost:8080/"
        },
        "outputId": "5a12f591-40f5-43a9-ce66-ff00d44b8a3c"
      },
      "source": [
        "np_m, np_b"
      ],
      "execution_count": null,
      "outputs": [
        {
          "output_type": "execute_result",
          "data": {
            "text/plain": [
              "(1.32243102275536, 7.991020982270385)"
            ]
          },
          "metadata": {
            "tags": []
          },
          "execution_count": 15
        }
      ]
    },
    {
      "cell_type": "markdown",
      "metadata": {
        "id": "Dh6PmQOwxcKk"
      },
      "source": [
        "### Visualize the Data"
      ]
    },
    {
      "cell_type": "code",
      "metadata": {
        "id": "B0h7MJE0xcKo",
        "colab": {
          "base_uri": "https://localhost:8080/",
          "height": 312
        },
        "outputId": "2898192a-1ba9-43e1-9535-61a1c8c60df4"
      },
      "source": [
        "fig = plt.figure()\n",
        "\n",
        "# Generate data for plotting Line\n",
        "x = np.arange(25, 75)\n",
        "y = [m * x_i + b for x_i in x]\n",
        "\n",
        "# Generate data for plotting Line Numpy Linear Regression\n",
        "np_x = np.arange(25, 75)\n",
        "np_y = [np_m * x_i + np_b for x_i in np_x]\n",
        "\n",
        "# plot data and best-fit lines\n",
        "plt.plot(X, Y, 'o', x, y, '-', np_x, np_y, '--')\n",
        "plt.legend(loc='upper left', labels=['data points', 'best-fit line', 'numpy line'])\n",
        "\n",
        "fig.suptitle('Linear Regression : Expected Marks vs Hours of Study', fontsize=18)\n",
        "plt.xlabel('Hours of Study', fontsize=14)\n",
        "plt.ylabel('Expected Marks', fontsize=14)\n",
        "plt.show()"
      ],
      "execution_count": null,
      "outputs": [
        {
          "output_type": "display_data",
          "data": {
            "image/png": "[encoded data removed]",
            "text/plain": [
              "<Figure size 432x288 with 1 Axes>"
            ]
          },
          "metadata": {
            "tags": [],
            "needs_background": "light"
          }
        }
      ]
    },
    {
      "cell_type": "markdown",
      "metadata": {
        "id": "9owNvtBU3UvS"
      },
      "source": [
        "# Multivariate Linear Regression\n",
        "## Predicting House Price from Size and Number of Bedrooms"
      ]
    },
    {
      "cell_type": "markdown",
      "metadata": {
        "id": "feDlSoPI3cVJ"
      },
      "source": [
        "$$y = \\theta_0 + \\theta_1x_1 + \\theta_2x_2$$\n",
        "$$y = 5.9s + 2.4b$$"
      ]
    },
    {
      "cell_type": "markdown",
      "metadata": {
        "id": "pn__WAkO3dnF"
      },
      "source": [
        "### Import Libraries"
      ]
    },
    {
      "cell_type": "code",
      "metadata": {
        "id": "qk7z-lnl3fx2"
      },
      "source": [
        "%matplotlib inline\n",
        "from mpl_toolkits.mplot3d import Axes3D\n",
        "import numpy as np\n",
        "import matplotlib.pyplot as plt\n",
        "from sklearn.preprocessing import normalize"
      ],
      "execution_count": null,
      "outputs": []
    },
    {
      "cell_type": "markdown",
      "metadata": {
        "id": "4vQCLsMZ3hoO"
      },
      "source": [
        "### Read Data"
      ]
    },
    {
      "cell_type": "code",
      "metadata": {
        "id": "iU5-3l_13i-x",
        "colab": {
          "base_uri": "https://localhost:8080/"
        },
        "outputId": "a45a90d7-943b-406b-98c7-9a34ed246e48"
      },
      "source": [
        "data = np.genfromtxt('https://raw.githubusercontent.com/Tan-Moy/medium_articles/master/art2_multivariate_linear_regression/home.txt', delimiter=',')\n",
        "data"
      ],
      "execution_count": null,
      "outputs": [
        {
          "output_type": "execute_result",
          "data": {
            "text/plain": [
              "array([[2.10400e+03, 3.00000e+00, 3.99900e+05],\n",
              "       [1.60000e+03, 3.00000e+00, 3.29900e+05],\n",
              "       [2.40000e+03, 3.00000e+00, 3.69000e+05],\n",
              "       [1.41600e+03, 2.00000e+00, 2.32000e+05],\n",
              "       [3.00000e+03, 4.00000e+00, 5.39900e+05],\n",
              "       [1.98500e+03, 4.00000e+00, 2.99900e+05],\n",
              "       [1.53400e+03, 3.00000e+00, 3.14900e+05],\n",
              "       [1.42700e+03, 3.00000e+00, 1.98999e+05],\n",
              "       [1.38000e+03, 3.00000e+00, 2.12000e+05],\n",
              "       [1.49400e+03, 3.00000e+00, 2.42500e+05],\n",
              "       [1.94000e+03, 4.00000e+00, 2.39999e+05],\n",
              "       [2.00000e+03, 3.00000e+00, 3.47000e+05],\n",
              "       [1.89000e+03, 3.00000e+00, 3.29999e+05],\n",
              "       [4.47800e+03, 5.00000e+00, 6.99900e+05],\n",
              "       [1.26800e+03, 3.00000e+00, 2.59900e+05],\n",
              "       [2.30000e+03, 4.00000e+00, 4.49900e+05],\n",
              "       [1.32000e+03, 2.00000e+00, 2.99900e+05],\n",
              "       [1.23600e+03, 3.00000e+00, 1.99900e+05],\n",
              "       [2.60900e+03, 4.00000e+00, 4.99998e+05],\n",
              "       [3.03100e+03, 4.00000e+00, 5.99000e+05],\n",
              "       [1.76700e+03, 3.00000e+00, 2.52900e+05],\n",
              "       [1.88800e+03, 2.00000e+00, 2.55000e+05],\n",
              "       [1.60400e+03, 3.00000e+00, 2.42900e+05],\n",
              "       [1.96200e+03, 4.00000e+00, 2.59900e+05],\n",
              "       [3.89000e+03, 3.00000e+00, 5.73900e+05],\n",
              "       [1.10000e+03, 3.00000e+00, 2.49900e+05],\n",
              "       [1.45800e+03, 3.00000e+00, 4.64500e+05],\n",
              "       [2.52600e+03, 3.00000e+00, 4.69000e+05],\n",
              "       [2.20000e+03, 3.00000e+00, 4.75000e+05],\n",
              "       [2.63700e+03, 3.00000e+00, 2.99900e+05],\n",
              "       [1.83900e+03, 2.00000e+00, 3.49900e+05],\n",
              "       [1.00000e+03, 1.00000e+00, 1.69900e+05],\n",
              "       [2.04000e+03, 4.00000e+00, 3.14900e+05],\n",
              "       [3.13700e+03, 3.00000e+00, 5.79900e+05],\n",
              "       [1.81100e+03, 4.00000e+00, 2.85900e+05],\n",
              "       [1.43700e+03, 3.00000e+00, 2.49900e+05],\n",
              "       [1.23900e+03, 3.00000e+00, 2.29900e+05],\n",
              "       [2.13200e+03, 4.00000e+00, 3.45000e+05],\n",
              "       [4.21500e+03, 4.00000e+00, 5.49000e+05],\n",
              "       [2.16200e+03, 4.00000e+00, 2.87000e+05],\n",
              "       [1.66400e+03, 2.00000e+00, 3.68500e+05],\n",
              "       [2.23800e+03, 3.00000e+00, 3.29900e+05],\n",
              "       [2.56700e+03, 4.00000e+00, 3.14000e+05],\n",
              "       [1.20000e+03, 3.00000e+00, 2.99000e+05],\n",
              "       [8.52000e+02, 2.00000e+00, 1.79900e+05],\n",
              "       [1.85200e+03, 4.00000e+00, 2.99900e+05],\n",
              "       [1.20300e+03, 3.00000e+00, 2.39500e+05]])"
            ]
          },
          "metadata": {
            "tags": []
          },
          "execution_count": 18
        }
      ]
    },
    {
      "cell_type": "code",
      "metadata": {
        "id": "5VxRRq123kvQ",
        "colab": {
          "base_uri": "https://localhost:8080/"
        },
        "outputId": "ede655e9-ad53-4fb5-885a-8d67e928ac2e"
      },
      "source": [
        "data.shape"
      ],
      "execution_count": null,
      "outputs": [
        {
          "output_type": "execute_result",
          "data": {
            "text/plain": [
              "(47, 3)"
            ]
          },
          "metadata": {
            "tags": []
          },
          "execution_count": 19
        }
      ]
    },
    {
      "cell_type": "markdown",
      "metadata": {
        "id": "OmytPuqc3mmu"
      },
      "source": [
        "### Visualize Data"
      ]
    },
    {
      "cell_type": "code",
      "metadata": {
        "id": "lgyqDbx-3nMc",
        "colab": {
          "base_uri": "https://localhost:8080/",
          "height": 248
        },
        "outputId": "5d4f7dbc-354b-4863-d30f-5369b5f73e72"
      },
      "source": [
        "X = data[:, 0:2]\n",
        "Y = data[:, 2:]\n",
        "\n",
        "# Fixing random state for reproducibility\n",
        "np.random.seed(19680801)\n",
        "\n",
        "fig = plt.figure()\n",
        "ax = fig.add_subplot(111, projection='3d')\n",
        "\n",
        "xs = X[:, 0]\n",
        "ys = X[:, 1]\n",
        "zs = Y\n",
        "ax.scatter(xs, ys, zs)\n",
        "\n",
        "ax.set_xlabel('size')\n",
        "ax.set_ylabel('bedroom')\n",
        "ax.set_zlabel('price')\n",
        "\n",
        "plt.show()"
      ],
      "execution_count": null,
      "outputs": [
        {
          "output_type": "display_data",
          "data": {
            "image/png": "[encoded data removed]",
            "text/plain": [
              "<Figure size 432x288 with 1 Axes>"
            ]
          },
          "metadata": {
            "tags": [],
            "needs_background": "light"
          }
        }
      ]
    },
    {
      "cell_type": "markdown",
      "metadata": {
        "id": "nLSqw_Af3on4"
      },
      "source": [
        "### Normalize Data"
      ]
    },
    {
      "cell_type": "code",
      "metadata": {
        "id": "6H9A1qrE3pzV",
        "colab": {
          "base_uri": "https://localhost:8080/"
        },
        "outputId": "f8c8fbc2-d3e6-4d3f-96e9-f99d13ec9e1e"
      },
      "source": [
        "data = normalize(data, axis=0)\n",
        "data"
      ],
      "execution_count": null,
      "outputs": [
        {
          "output_type": "execute_result",
          "data": {
            "text/plain": [
              "array([[0.14276982, 0.13429844, 0.16105104],\n",
              "       [0.10857021, 0.13429844, 0.13286006],\n",
              "       [0.16285531, 0.13429844, 0.14860674],\n",
              "       [0.09608463, 0.0895323 , 0.09343296],\n",
              "       [0.20356914, 0.17906459, 0.217433  ],\n",
              "       [0.13469491, 0.17906459, 0.12077821],\n",
              "       [0.10409169, 0.13429844, 0.12681914],\n",
              "       [0.09683105, 0.13429844, 0.08014253],\n",
              "       [0.0936418 , 0.13429844, 0.0853784 ],\n",
              "       [0.10137743, 0.13429844, 0.09766161],\n",
              "       [0.13164137, 0.17906459, 0.09665439],\n",
              "       [0.13571276, 0.13429844, 0.13974671],\n",
              "       [0.12824856, 0.13429844, 0.13289993],\n",
              "       [0.30386086, 0.22383074, 0.28186953],\n",
              "       [0.08604189, 0.13429844, 0.10466908],\n",
              "       [0.15606967, 0.17906459, 0.18118746],\n",
              "       [0.08957042, 0.0895323 , 0.12077821],\n",
              "       [0.08387048, 0.13429844, 0.08050538],\n",
              "       [0.17703729, 0.17906459, 0.20136334],\n",
              "       [0.20567268, 0.17906459, 0.24123424],\n",
              "       [0.11990222, 0.13429844, 0.10184998],\n",
              "       [0.12811284, 0.0895323 , 0.10269571],\n",
              "       [0.10884163, 0.13429844, 0.0978227 ],\n",
              "       [0.13313422, 0.17906459, 0.10466908],\n",
              "       [0.26396131, 0.13429844, 0.23112576],\n",
              "       [0.07464202, 0.13429844, 0.1006418 ],\n",
              "       [0.0989346 , 0.13429844, 0.18706729],\n",
              "       [0.17140521, 0.13429844, 0.18887957],\n",
              "       [0.14928403, 0.13429844, 0.19129594],\n",
              "       [0.17893727, 0.13429844, 0.12077821],\n",
              "       [0.12478788, 0.0895323 , 0.14091463],\n",
              "       [0.06785638, 0.04476615, 0.06842354],\n",
              "       [0.13842701, 0.17906459, 0.12681914],\n",
              "       [0.21286546, 0.13429844, 0.23354213],\n",
              "       [0.1228879 , 0.17906459, 0.11514002],\n",
              "       [0.09750962, 0.13429844, 0.1006418 ],\n",
              "       [0.08407405, 0.13429844, 0.09258723],\n",
              "       [0.1446698 , 0.17906459, 0.13894126],\n",
              "       [0.28601464, 0.17906459, 0.22109783],\n",
              "       [0.14670549, 0.17906459, 0.11558302],\n",
              "       [0.11291301, 0.0895323 , 0.14840537],\n",
              "       [0.15186258, 0.13429844, 0.13286006],\n",
              "       [0.17418732, 0.17906459, 0.12645668],\n",
              "       [0.08142765, 0.13429844, 0.12041576],\n",
              "       [0.05781363, 0.0895323 , 0.07245082],\n",
              "       [0.12567001, 0.17906459, 0.12077821],\n",
              "       [0.08163122, 0.13429844, 0.09645342]])"
            ]
          },
          "metadata": {
            "tags": []
          },
          "execution_count": 21
        }
      ]
    },
    {
      "cell_type": "markdown",
      "metadata": {
        "id": "9XELDjfW3rg2"
      },
      "source": [
        "### Seperate Data into X and Y"
      ]
    },
    {
      "cell_type": "code",
      "metadata": {
        "id": "4dvW2BTx3tjF"
      },
      "source": [
        "X = data[:, 0:2]\n",
        "Y = data[:, 2:]"
      ],
      "execution_count": null,
      "outputs": []
    },
    {
      "cell_type": "markdown",
      "metadata": {
        "id": "2rvobNtd3vIG"
      },
      "source": [
        "### Visualize the Data"
      ]
    },
    {
      "cell_type": "code",
      "metadata": {
        "id": "U1Jkv3yR3wqI",
        "colab": {
          "base_uri": "https://localhost:8080/",
          "height": 248
        },
        "outputId": "c20f7558-c354-4a74-e82d-f1779cf63544"
      },
      "source": [
        "# Fixing random state for reproducibility\n",
        "np.random.seed(19680801)\n",
        "\n",
        "fig = plt.figure()\n",
        "ax = fig.add_subplot(111, projection='3d')\n",
        "\n",
        "xs = X[:, 0]\n",
        "ys = X[:, 1]\n",
        "zs = Y\n",
        "ax.scatter(xs, ys, zs)\n",
        "\n",
        "ax.set_xlabel('size')\n",
        "ax.set_ylabel('bedroom')\n",
        "ax.set_zlabel('price')\n",
        "\n",
        "plt.show()"
      ],
      "execution_count": null,
      "outputs": [
        {
          "output_type": "display_data",
          "data": {
            "image/png": "[encoded data removed]",
            "text/plain": [
              "<Figure size 432x288 with 1 Axes>"
            ]
          },
          "metadata": {
            "tags": [],
            "needs_background": "light"
          }
        }
      ]
    },
    {
      "cell_type": "code",
      "metadata": {
        "id": "rgBdmSi84KeT"
      },
      "source": [
        "def h (theta, X) :\n",
        "  tempX = np.ones((X.shape[0], X.shape[1] + 1))\n",
        "  tempX[:,1:] = X\n",
        "  return np.matmul(tempX, theta)"
      ],
      "execution_count": null,
      "outputs": []
    },
    {
      "cell_type": "markdown",
      "metadata": {
        "id": "zTZ0jkzi4Lmc"
      },
      "source": [
        "### Loss Function"
      ]
    },
    {
      "cell_type": "markdown",
      "metadata": {
        "id": "2Z6O2szm4OPX"
      },
      "source": [
        "Define Loss Function as $ J(\\theta_0,...,\\theta_n) $"
      ]
    },
    {
      "cell_type": "markdown",
      "metadata": {
        "id": "9EmPb9N74QRE"
      },
      "source": [
        "A loss function is a way to map the performance of our model into a real number. It measures how well the model is performing its task like a linear regression model fitting the data to a line. The loss function is particularly important in learning since it is what guides the update of the parameters so that the model can perform better.\n",
        "\n",
        "An example of loss is mean sqaured error. It measures the average squared distance between two sets of values. A large MSE indicates data points being widely spread, while a small MSE indicates the opposite.\n",
        "\n",
        "A good intuition for the squared loss is that it will drive the model towards the mean of the training set, therefore it is sensitive to outliers. Our goal is to obviously minimize the Loss so the regression line predicts more accurately."
      ]
    },
    {
      "cell_type": "code",
      "metadata": {
        "id": "KGwaiYk24R8L"
      },
      "source": [
        "def loss (theta, X, Y) :\n",
        "  return np.average(np.square(Y - h(theta, X))) / 2"
      ],
      "execution_count": null,
      "outputs": []
    },
    {
      "cell_type": "markdown",
      "metadata": {
        "id": "yYShGQYi4T2R"
      },
      "source": [
        "### Calculate Gradients"
      ]
    },
    {
      "cell_type": "markdown",
      "metadata": {
        "id": "hUXI7LDV4YIP"
      },
      "source": [
        "https://sandipanweb.files.wordpress.com/2017/11/sgd.gif?w=479"
      ]
    },
    {
      "cell_type": "code",
      "metadata": {
        "id": "QSBKV6t_4ZcT"
      },
      "source": [
        "def gradient (theta, X, Y) :\n",
        "  tempX = np.ones((X.shape[0], X.shape[1] + 1))\n",
        "  tempX[:,1:] = X\n",
        "  d_theta = - np.average((Y - h(theta, X)) * tempX, axis= 0)\n",
        "  d_theta = d_theta.reshape((d_theta.shape[0], 1))\n",
        "  return d_theta"
      ],
      "execution_count": null,
      "outputs": []
    },
    {
      "cell_type": "markdown",
      "metadata": {
        "id": "xHO1tpwh4av4"
      },
      "source": [
        "### Batch Gradient Descent\n"
      ]
    },
    {
      "cell_type": "markdown",
      "metadata": {
        "id": "f0P_l4ON4jOV"
      },
      "source": [
        "Repeat:\n",
        "\n",
        "$\\theta_{i+1} = \\theta_i - \\alpha \\frac{\\partial}{\\partial\\theta_j}J(\\theta)$"
      ]
    },
    {
      "cell_type": "code",
      "metadata": {
        "id": "Ll1adLWW4gDH"
      },
      "source": [
        "def gradient_descent (theta, X, Y, learning_rate, max_iteration, gap) :\n",
        "  cost = np.zeros(max_iteration)\n",
        "  for i in range(max_iteration) :\n",
        "    d_theta = gradient (theta, X, Y)\n",
        "    theta = theta - learning_rate * d_theta\n",
        "    cost[i] = loss(theta, X, Y)\n",
        "    if i % gap == 0 :\n",
        "      print ('iteration : ', i, ' loss : ', loss(theta, X, Y)) \n",
        "  return theta, cost"
      ],
      "execution_count": null,
      "outputs": []
    },
    {
      "cell_type": "markdown",
      "metadata": {
        "id": "OwQzdGvZ4db3"
      },
      "source": [
        "### Reset Theta"
      ]
    },
    {
      "cell_type": "code",
      "metadata": {
        "id": "awxVgsKh4nU_",
        "colab": {
          "base_uri": "https://localhost:8080/"
        },
        "outputId": "2f8895ad-bf19-4fa2-e54e-bfc7c0af372a"
      },
      "source": [
        "theta = np.zeros((data.shape[1], 1))\n",
        "theta"
      ],
      "execution_count": null,
      "outputs": [
        {
          "output_type": "execute_result",
          "data": {
            "text/plain": [
              "array([[0.],\n",
              "       [0.],\n",
              "       [0.]])"
            ]
          },
          "metadata": {
            "tags": []
          },
          "execution_count": 28
        }
      ]
    },
    {
      "cell_type": "markdown",
      "metadata": {
        "id": "PUma0BXk4plY"
      },
      "source": [
        "### Hyperparameters"
      ]
    },
    {
      "cell_type": "code",
      "metadata": {
        "id": "SeystPqq4rXH"
      },
      "source": [
        "learning_rate = 1\n",
        "max_iteration = 5000"
      ],
      "execution_count": null,
      "outputs": []
    },
    {
      "cell_type": "markdown",
      "metadata": {
        "id": "8OriUseR4sYJ"
      },
      "source": [
        "### Train Model"
      ]
    },
    {
      "cell_type": "code",
      "metadata": {
        "id": "pu4TFtOl4uHL",
        "colab": {
          "base_uri": "https://localhost:8080/"
        },
        "outputId": "f50a173b-56de-4432-9172-0e42a2d9b085"
      },
      "source": [
        "theta = np.zeros((data.shape[1], 1))\n",
        "\n",
        "theta, cost = gradient_descent (theta, X, Y, learning_rate, max_iteration, 1000)"
      ],
      "execution_count": null,
      "outputs": [
        {
          "output_type": "stream",
          "text": [
            "iteration :  0  loss :  0.0011960196437456382\n",
            "iteration :  1000  loss :  0.0003479714095097213\n",
            "iteration :  2000  loss :  0.0003354292812760603\n",
            "iteration :  3000  loss :  0.00033246115718214576\n",
            "iteration :  4000  loss :  0.0003316794692904493\n"
          ],
          "name": "stdout"
        }
      ]
    },
    {
      "cell_type": "markdown",
      "metadata": {
        "id": "hDO7iWJe4wMU"
      },
      "source": [
        "### Optimal Values of Parameters Using Trained Model"
      ]
    },
    {
      "cell_type": "code",
      "metadata": {
        "id": "LHLytrJF44GE",
        "colab": {
          "base_uri": "https://localhost:8080/"
        },
        "outputId": "9c155e4e-b9e5-4ca9-9284-002a580956b4"
      },
      "source": [
        "theta"
      ],
      "execution_count": null,
      "outputs": [
        {
          "output_type": "execute_result",
          "data": {
            "text/plain": [
              "array([[ 0.03500812],\n",
              "       [ 0.82002865],\n",
              "       [-0.06511682]])"
            ]
          },
          "metadata": {
            "tags": []
          },
          "execution_count": 31
        }
      ]
    },
    {
      "cell_type": "code",
      "metadata": {
        "id": "dZYTDiOl42iP",
        "colab": {
          "base_uri": "https://localhost:8080/"
        },
        "outputId": "70784a9e-8a0a-45bb-c647-70ecf1fa06ff"
      },
      "source": [
        "loss(theta, X, Y)"
      ],
      "execution_count": null,
      "outputs": [
        {
          "output_type": "execute_result",
          "data": {
            "text/plain": [
              "0.00033147355792877473"
            ]
          },
          "metadata": {
            "tags": []
          },
          "execution_count": 32
        }
      ]
    },
    {
      "cell_type": "markdown",
      "metadata": {
        "id": "-zwelYoh46O9"
      },
      "source": [
        "### Cost vs. Iteration Plots"
      ]
    },
    {
      "cell_type": "code",
      "metadata": {
        "id": "nCGEOKIV4-Gp",
        "colab": {
          "base_uri": "https://localhost:8080/",
          "height": 295
        },
        "outputId": "6f8489f4-e490-4450-db6a-dc43e166ff2f"
      },
      "source": [
        "#plot the cost\n",
        "fig, ax = plt.subplots()  \n",
        "ax.plot(np.arange(max_iteration), cost, 'r')  \n",
        "ax.legend(loc='upper right', labels=['batch gradient descent'])\n",
        "ax.set_xlabel('Iterations')  \n",
        "ax.set_ylabel('Cost')  \n",
        "ax.set_title('Error vs. Training Epoch')  \n",
        "\n",
        "plt.show()"
      ],
      "execution_count": null,
      "outputs": [
        {
          "output_type": "display_data",
          "data": {
            "image/png": "[encoded data removed]",
            "text/plain": [
              "<Figure size 432x288 with 1 Axes>"
            ]
          },
          "metadata": {
            "tags": [],
            "needs_background": "light"
          }
        }
      ]
    },
    {
      "cell_type": "markdown",
      "metadata": {
        "id": "2f1NlUbBfXjR"
      },
      "source": [
        "\n",
        "https://colab.research.google.com/github/kaustubholpadkar/Linear_Regression-Gradient_Descent-Octave/blob/master/Linear_Regression_Python.ipynb"
      ]
    },
    {
      "cell_type": "code",
      "metadata": {
        "id": "YIusvJhbfYZY"
      },
      "source": [
        ""
      ],
      "execution_count": null,
      "outputs": []
    }
  ]
}