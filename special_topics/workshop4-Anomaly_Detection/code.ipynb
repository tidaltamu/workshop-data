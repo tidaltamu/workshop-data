{
  "nbformat": 4,
  "nbformat_minor": 0,
  "metadata": {
    "colab": {
      "name": "W4_completed.ipynb",
      "provenance": [],
      "collapsed_sections": [],
      "include_colab_link": true
    },
    "kernelspec": {
      "name": "python3",
      "display_name": "Python 3"
    }
  },
  "cells": [
    {
      "cell_type": "markdown",
      "metadata": {
        "id": "view-in-github",
        "colab_type": "text"
      },
      "source": [
        "<a href=\"https://colab.research.google.com/github/tidaltamu/workshops/blob/main/special_topics/workshop4/code.ipynb\" target=\"_parent\"><img src=\"https://colab.research.google.com/assets/colab-badge.svg\" alt=\"Open In Colab\"/></a>"
      ]
    },
    {
      "cell_type": "markdown",
      "metadata": {
        "id": "ynJbEco6hWps"
      },
      "source": [
        "#Developing and Evaluating an Anomaly Detection System"
      ]
    },
    {
      "cell_type": "markdown",
      "metadata": {
        "id": "1grNB1TjixQb"
      },
      "source": [
        "An autoencoder uses two components: an encoder and a decoder. The encoder accepts the input data and compresses it into the latent-space representation. The decoder then attempts to reconstruct the input data from the latent space.\\\n",
        "\n",
        "The very basic idea of anomalies is really centered around two values - extremely high values and extremely low values."
      ]
    },
    {
      "cell_type": "markdown",
      "metadata": {
        "id": "2h-ZSsFLrxZf"
      },
      "source": [
        "Name of the employees of an organization\n",
        "Salaries of those employees (in USD) within a range of 1000 to 2500 (Monthly)"
      ]
    },
    {
      "cell_type": "code",
      "metadata": {
        "id": "LF27jMCgtfas",
        "colab": {
          "base_uri": "https://localhost:8080/"
        },
        "outputId": "45441254-8edf-4ddc-cde3-1e27fb4e9b19"
      },
      "source": [
        "!pip install faker"
      ],
      "execution_count": null,
      "outputs": [
        {
          "output_type": "stream",
          "text": [
            "Requirement already satisfied: faker in /usr/local/lib/python3.6/dist-packages (4.14.2)\n",
            "Requirement already satisfied: python-dateutil>=2.4 in /usr/local/lib/python3.6/dist-packages (from faker) (2.8.1)\n",
            "Requirement already satisfied: text-unidecode==1.3 in /usr/local/lib/python3.6/dist-packages (from faker) (1.3)\n",
            "Requirement already satisfied: six>=1.5 in /usr/local/lib/python3.6/dist-packages (from python-dateutil>=2.4->faker) (1.15.0)\n"
          ],
          "name": "stdout"
        }
      ]
    },
    {
      "cell_type": "code",
      "metadata": {
        "id": "rLZbweaIovQS",
        "colab": {
          "base_uri": "https://localhost:8080/"
        },
        "outputId": "51b49803-5768-4862-9ecb-af00b5cea3e9"
      },
      "source": [
        "# Import the necessary packages\n",
        "import pandas as pd\n",
        "import numpy as np\n",
        "import matplotlib.pyplot as plt\n",
        "\n",
        "# Comment out the following line if you are using Jupyter Notebook\n",
        "# %matplotlib inline\n",
        "# Use a predefined style set\n",
        "plt.style.use('ggplot')\n",
        "\n",
        "# Import Faker\n",
        "from faker import Faker\n",
        "fake = Faker()\n",
        "\n",
        "# To ensure the results are reproducible\n",
        "Faker.seed(4321)\n",
        "\n",
        "names_list = []\n",
        "\n",
        "fake = Faker()\n",
        "for _ in range(100):\n",
        "  names_list.append(fake.name())\n",
        "\n",
        "print(\"names list \", names_list)\n",
        "# To ensure the results are reproducible\n",
        "np.random.seed(7)\n",
        "\n",
        "salaries = []\n",
        "for _ in range(100):\n",
        "    salary = np.random.randint(1000,2500)\n",
        "    salaries.append(salary)\n",
        "\n",
        "# Create pandas DataFrame\n",
        "salary_df = pd.DataFrame(\n",
        "    {'Person': names_list,\n",
        "     'Salary (in USD)': salaries\n",
        "    })\n",
        "\n",
        "# Print a subsection of the DataFrame\n",
        "print(salary_df.head())"
      ],
      "execution_count": null,
      "outputs": [
        {
          "output_type": "stream",
          "text": [
            "names list  ['Jason Brown', 'Jacob Stein', 'Cody Brown', 'Larry Morales', 'Jessica Hendricks', 'Brian Moore', 'Scott Baker', 'Ruth Hoffman', 'Daniel George', 'David Moody', 'Brian Maxwell', 'Cory Cooper', 'Morgan Foster', 'James Sandoval', 'Brian Lester', 'Anne Davis', 'Miss Amanda Harris MD', 'Amy Dunn', 'Brian Lee', 'Kimberly Pratt', 'Russell Yang', 'Renee Fisher', 'Rebecca Castro', 'Robert Yoder', 'Todd Young', 'John Houston', 'Matthew Valdez', 'Gary Nguyen', 'Alexander Poole', 'Dean Welch', 'Andrew Perez', 'Brian Porter', 'Aaron Walker', 'Lisa Wilson', 'Brian Miller', 'Nicholas Evans', 'Jessica Hernandez', 'Teresa Haynes', 'Angela Maynard', 'Stephanie Gregory', 'Phyllis Hess', 'Stephen Martin', 'Emily Blair', 'Hannah Holland', 'Adam Hoffman', 'Holly Roberts', 'Jeffrey Brown', 'Sarah Keith', 'Sean Weeks', 'Tony Lloyd', 'Caleb Davidson', 'Andrew Patterson', 'Joshua Ellis', 'Cassandra Lewis', 'Sabrina Wallace', 'Derek Allison', 'Taylor Dawson', 'Allison Yoder', 'Jo Brown', 'Jennifer Mcdowell', 'Matthew Fry', 'Jose Nolan', 'Richard Meza', 'Michael Moore PhD', 'Philip Anderson', 'Joyce Bishop', 'Patricia Ali', 'Raymond Galvan', 'Corey Green', 'Dr. Robert White', 'Joseph Copeland', 'Matthew King', 'Jonathan Francis', 'Carmen Hardy', 'Kendra Andersen', 'Jennifer Welch', 'Heather Ryan', 'Jeff Hays', 'Chloe Marshall', 'Kimberly Blair', 'Frederick Ramirez', 'Ariel Williams', 'Jim Thompson', 'Melissa Walker', 'Mason Williams', 'Nathan Jackson', 'Angela Howard', 'Derrick Santiago', 'Carrie Craig', 'Sean Powell', 'Thomas Garcia', 'Katherine Davis', 'Jennifer Berry', 'David Lewis', 'Linda Smith', 'Robert Garrett', 'Parker Kent', 'Michelle Logan', 'Beverly Baker DVM', 'James Decker']\n",
            "              Person  Salary (in USD)\n",
            "0        Jason Brown             1175\n",
            "1        Jacob Stein             2220\n",
            "2         Cody Brown             1537\n",
            "3      Larry Morales             1502\n",
            "4  Jessica Hendricks             1211\n"
          ],
          "name": "stdout"
        }
      ]
    },
    {
      "cell_type": "code",
      "metadata": {
        "id": "RInXdUiftnzy",
        "colab": {
          "base_uri": "https://localhost:8080/"
        },
        "outputId": "1e1d21a7-2410-40cb-a6d0-0c7e79acbdde"
      },
      "source": [
        "salary_df.at[16, 'Salary (in USD)'] = 23 #Set value at specified row/column pair\n",
        "\n",
        "salary_df.at[65, 'Salary (in USD)'] = 17\n",
        "\n",
        "# Verify if the salaries were changed\n",
        "print(salary_df.loc[16])\n",
        "print(salary_df.loc[65])"
      ],
      "execution_count": null,
      "outputs": [
        {
          "output_type": "stream",
          "text": [
            "Person             Miss Amanda Harris MD\n",
            "Salary (in USD)                       23\n",
            "Name: 16, dtype: object\n",
            "Person             Joyce Bishop\n",
            "Salary (in USD)              17\n",
            "Name: 65, dtype: object\n"
          ],
          "name": "stdout"
        }
      ]
    },
    {
      "cell_type": "markdown",
      "metadata": {
        "id": "30exf7mCtwXk"
      },
      "source": [
        "Detecting anomalies just by seeing"
      ]
    },
    {
      "cell_type": "code",
      "metadata": {
        "id": "7cqTDskLtshI",
        "colab": {
          "base_uri": "https://localhost:8080/",
          "height": 265
        },
        "outputId": "61a235af-990b-4aa6-a56b-1ae5b33eb2a1"
      },
      "source": [
        "salary_df['Salary (in USD)'].plot(kind='box')\n",
        "plt.show()"
      ],
      "execution_count": null,
      "outputs": [
        {
          "output_type": "display_data",
          "data": {
            "image/png": "[encoded data removed]",
            "text/plain": [
              "<Figure size 432x288 with 1 Axes>"
            ]
          },
          "metadata": {
            "tags": []
          }
        }
      ]
    },
    {
      "cell_type": "code",
      "metadata": {
        "id": "QnTMzu2pt6eO",
        "colab": {
          "base_uri": "https://localhost:8080/",
          "height": 265
        },
        "outputId": "04125ddc-7ecf-4f55-fd92-75a01e92fc1d"
      },
      "source": [
        "salary_df['Salary (in USD)'].plot(kind='hist')\n",
        "plt.show()"
      ],
      "execution_count": null,
      "outputs": [
        {
          "output_type": "display_data",
          "data": {
            "image/png": "[encoded data removed]",
            "text/plain": [
              "<Figure size 432x288 with 1 Axes>"
            ]
          },
          "metadata": {
            "tags": []
          }
        }
      ]
    },
    {
      "cell_type": "markdown",
      "metadata": {
        "id": "4m1dbg-duEew"
      },
      "source": [
        "we can see there's one particular bin that is just not right as it deviates hugely from the rest of the data"
      ]
    },
    {
      "cell_type": "code",
      "metadata": {
        "id": "MQeRbCqft_Jj",
        "colab": {
          "base_uri": "https://localhost:8080/"
        },
        "outputId": "27cb0a78-5965-416c-e395-fd72bd195ded"
      },
      "source": [
        "# Minimum and maximum salaries\n",
        "print('Minimum salary ' + str(salary_df['Salary (in USD)'].min()))\n",
        "print('Maximum salary ' + str(salary_df['Salary (in USD)'].max()))"
      ],
      "execution_count": null,
      "outputs": [
        {
          "output_type": "stream",
          "text": [
            "Minimum salary 17\n",
            "Maximum salary 2498\n"
          ],
          "name": "stdout"
        }
      ]
    },
    {
      "cell_type": "markdown",
      "metadata": {
        "id": "1wGwJEotuMmX"
      },
      "source": [
        "Clustering based approach for anomaly detection\n"
      ]
    },
    {
      "cell_type": "code",
      "metadata": {
        "id": "85gjdKQMt_M7"
      },
      "source": [
        "# Convert the salary values to a numpy array\n",
        "salary_raw = salary_df['Salary (in USD)'].values\n",
        "\n",
        "# For compatibility with the SciPy implementation\n",
        "salary_raw = salary_raw.reshape(-1, 1) #Now trying to reshape with (-1, 1) . We have provided column as 1 but rows as unknown \n",
        "salary_raw = salary_raw.astype('float64')"
      ],
      "execution_count": null,
      "outputs": []
    },
    {
      "cell_type": "code",
      "metadata": {
        "id": "itgqmW8nuSzS"
      },
      "source": [
        "# Import kmeans from SciPy\n",
        "from scipy.cluster.vq import kmeans,vq\n",
        "    \n",
        "# Specify the data and the number of clusters to kmeans()\n",
        "codebook, distortion = kmeans(salary_raw, 4)\n"
      ],
      "execution_count": null,
      "outputs": []
    },
    {
      "cell_type": "code",
      "metadata": {
        "id": "6oLRVT0suZNQ",
        "colab": {
          "base_uri": "https://localhost:8080/"
        },
        "outputId": "ce446bfd-4601-479b-d4ab-7b11ceb914ef"
      },
      "source": [
        "# Get the groups (clusters) and distances\n",
        "groups, cdist = vq(salary_raw, codebook)\n",
        "print(\"groups \",groups)\n",
        "print(\"cdist\" , cdist)"
      ],
      "execution_count": null,
      "outputs": [
        {
          "output_type": "stream",
          "text": [
            "groups  [1 2 1 1 1 3 2 2 2 1 1 1 3 3 3 2 0 2 1 3 2 3 1 2 2 2 2 2 1 3 2 3 2 1 1 1 2\n",
            " 3 3 1 2 2 2 3 1 1 2 2 3 3 3 1 3 3 2 2 2 2 1 3 2 1 3 1 3 0 1 2 3 3 1 2 2 3\n",
            " 3 2 2 2 1 1 1 1 3 1 1 1 1 3 3 3 3 1 1 3 1 1 1 2 3 2]\n",
            "cdist [126.51428571  44.54545455 235.48571429 200.48571429  90.51428571\n",
            " 126.1        107.45454545  55.54545455 157.45454545 233.48571429\n",
            "  43.48571429  64.48571429 238.9         62.9        111.1\n",
            "  73.54545455   3.         191.45454545  89.48571429 147.1\n",
            " 165.54545455  30.1         51.51428571 234.54545455 203.45454545\n",
            " 196.54545455  84.45454545  88.54545455 118.51428571 156.1\n",
            " 128.54545455  29.9         51.54545455  11.51428571  10.48571429\n",
            " 100.51428571 221.45454545 242.9         20.9        192.48571429\n",
            " 103.54545455  45.54545455 168.54545455 151.1         44.51428571\n",
            "  98.48571429 133.45454545 108.45454545 147.1        188.9\n",
            "  28.9         22.51428571  47.9         10.1        207.45454545\n",
            "  76.45454545 150.45454545  89.54545455 209.51428571  33.9\n",
            "  16.54545455  54.48571429 138.1        179.48571429 213.9\n",
            "   3.         179.48571429 221.54545455 130.1          5.9\n",
            " 268.51428571 117.54545455  45.45454545  51.9        196.1\n",
            " 174.45454545 110.54545455 157.54545455 100.48571429 280.51428571\n",
            "  98.51428571 254.51428571   8.9        222.48571429  47.48571429\n",
            " 194.51428571  91.48571429  51.1        170.9        138.9\n",
            " 156.9         25.51428571   7.48571429  34.1        266.51428571\n",
            "  41.51428571 154.48571429 233.45454545 214.1         25.54545455]\n"
          ],
          "name": "stdout"
        }
      ]
    },
    {
      "cell_type": "code",
      "metadata": {
        "id": "_ki72sAQuZPx",
        "colab": {
          "base_uri": "https://localhost:8080/",
          "height": 282
        },
        "outputId": "6b710240-eaf0-4a59-ad89-3ac74ec61d04"
      },
      "source": [
        "plt.scatter(salary_raw, np.arange(0,100), c=groups)\n",
        "plt.xlabel('Salaries in (USD)')\n",
        "plt.ylabel('Indices')\n",
        "plt.show()"
      ],
      "execution_count": null,
      "outputs": [
        {
          "output_type": "display_data",
          "data": {
            "image/png": "[encoded data removed]",
            "text/plain": [
              "<Figure size 432x288 with 1 Axes>"
            ]
          },
          "metadata": {
            "tags": []
          }
        }
      ]
    },
    {
      "cell_type": "markdown",
      "metadata": {
        "id": "fzGrQLB_v3QO"
      },
      "source": [
        "Anomaly detection as a classification problem\n"
      ]
    },
    {
      "cell_type": "code",
      "metadata": {
        "id": "3Nv88thMuZTK",
        "colab": {
          "base_uri": "https://localhost:8080/"
        },
        "outputId": "533f6ad7-c23e-438e-e0a6-f2a8187c95ba"
      },
      "source": [
        "# First assign all the instances to \n",
        "salary_df['class'] = 0\n",
        "\n",
        "# Manually edit the labels for the anomalies\n",
        "salary_df.at[16, 'class'] = 1\n",
        "salary_df.at[65, 'class'] = 1\n",
        "\n",
        "# Veirfy \n",
        "print(salary_df.loc[16])"
      ],
      "execution_count": null,
      "outputs": [
        {
          "output_type": "stream",
          "text": [
            "Person             Miss Amanda Harris MD\n",
            "Salary (in USD)                       23\n",
            "class                                  1\n",
            "Name: 16, dtype: object\n"
          ],
          "name": "stdout"
        }
      ]
    },
    {
      "cell_type": "code",
      "metadata": {
        "id": "LXP-LQlZv73K",
        "colab": {
          "base_uri": "https://localhost:8080/"
        },
        "outputId": "021f74f2-1892-4803-e2b7-29289d776375"
      },
      "source": [
        "# Importing KNN module from PyOD\n",
        "!pip install KNN\n",
        "!pip install pyod\n",
        "from pyod.models.knn import KNN\n"
      ],
      "execution_count": null,
      "outputs": [
        {
          "output_type": "stream",
          "text": [
            "Collecting KNN\n",
            "  Downloading https://files.pythonhosted.org/packages/90/e7/986934ce2d5bcaa9499a1f0ab56130344fc557753aaa1951336db056a0d7/KNN-1.0.0.tar.gz\n",
            "Building wheels for collected packages: KNN\n",
            "  Building wheel for KNN (setup.py) ... \u001b[?25l\u001b[?25hdone\n",
            "  Created wheel for KNN: filename=KNN-1.0.0-cp36-none-any.whl size=3134 sha256=3f93149cf0cda4c9fd586a3aed62c750e5142482f324cbab239647bbc53cffa2\n",
            "  Stored in directory: /root/.cache/pip/wheels/0f/c7/72/df136c562fcab0ee6def2fd6ba7a2b229a7eed9caedd0a653f\n",
            "Successfully built KNN\n",
            "Installing collected packages: KNN\n",
            "Successfully installed KNN-1.0.0\n",
            "Collecting pyod\n",
            "\u001b[?25l  Downloading https://files.pythonhosted.org/packages/a3/4b/d2edd1e85b132d480feced17f044267b3e330391240779d78b1c3d378b24/pyod-0.8.3.tar.gz (96kB)\n",
            "\u001b[K     |████████████████████████████████| 102kB 4.3MB/s \n",
            "\u001b[?25hCollecting combo\n",
            "  Downloading https://files.pythonhosted.org/packages/0a/2a/61b6ac584e75d8df16dc27962aa5fe99d76b09da5b6710e83d4862c84001/combo-0.1.1.tar.gz\n",
            "Requirement already satisfied: joblib in /usr/local/lib/python3.6/dist-packages (from pyod) (0.17.0)\n",
            "Requirement already satisfied: matplotlib in /usr/local/lib/python3.6/dist-packages (from pyod) (3.2.2)\n",
            "Requirement already satisfied: numpy>=1.13 in /usr/local/lib/python3.6/dist-packages (from pyod) (1.18.5)\n",
            "Requirement already satisfied: numba>=0.35 in /usr/local/lib/python3.6/dist-packages (from pyod) (0.48.0)\n",
            "Requirement already satisfied: pandas>=0.25 in /usr/local/lib/python3.6/dist-packages (from pyod) (1.1.4)\n",
            "Requirement already satisfied: scipy>=0.19.1 in /usr/local/lib/python3.6/dist-packages (from pyod) (1.4.1)\n",
            "Requirement already satisfied: scikit_learn>=0.19.1 in /usr/local/lib/python3.6/dist-packages (from pyod) (0.22.2.post1)\n",
            "Requirement already satisfied: six in /usr/local/lib/python3.6/dist-packages (from pyod) (1.15.0)\n",
            "Requirement already satisfied: statsmodels in /usr/local/lib/python3.6/dist-packages (from pyod) (0.10.2)\n",
            "Collecting suod\n",
            "\u001b[?25l  Downloading https://files.pythonhosted.org/packages/a1/87/9170cabe1b5e10a7d095c0e28f2e30e7c1886a13f063de85d3cfacc06f4b/suod-0.0.4.tar.gz (2.1MB)\n",
            "\u001b[K     |████████████████████████████████| 2.1MB 8.4MB/s \n",
            "\u001b[?25hRequirement already satisfied: kiwisolver>=1.0.1 in /usr/local/lib/python3.6/dist-packages (from matplotlib->pyod) (1.3.1)\n",
            "Requirement already satisfied: python-dateutil>=2.1 in /usr/local/lib/python3.6/dist-packages (from matplotlib->pyod) (2.8.1)\n",
            "Requirement already satisfied: cycler>=0.10 in /usr/local/lib/python3.6/dist-packages (from matplotlib->pyod) (0.10.0)\n",
            "Requirement already satisfied: pyparsing!=2.0.4,!=2.1.2,!=2.1.6,>=2.0.1 in /usr/local/lib/python3.6/dist-packages (from matplotlib->pyod) (2.4.7)\n",
            "Requirement already satisfied: setuptools in /usr/local/lib/python3.6/dist-packages (from numba>=0.35->pyod) (50.3.2)\n",
            "Requirement already satisfied: llvmlite<0.32.0,>=0.31.0dev0 in /usr/local/lib/python3.6/dist-packages (from numba>=0.35->pyod) (0.31.0)\n",
            "Requirement already satisfied: pytz>=2017.2 in /usr/local/lib/python3.6/dist-packages (from pandas>=0.25->pyod) (2018.9)\n",
            "Requirement already satisfied: patsy>=0.4.0 in /usr/local/lib/python3.6/dist-packages (from statsmodels->pyod) (0.5.1)\n",
            "Building wheels for collected packages: pyod, combo, suod\n",
            "  Building wheel for pyod (setup.py) ... \u001b[?25l\u001b[?25hdone\n",
            "  Created wheel for pyod: filename=pyod-0.8.3-cp36-none-any.whl size=110349 sha256=fc1785eaf0e74a77c19b3bae8cdf6faa8807fa194fa05cd58ea7acf634e3a6b2\n",
            "  Stored in directory: /root/.cache/pip/wheels/29/46/95/86facd235cce1d58ae6747ab1aea2b3742564325a66a60863a\n",
            "  Building wheel for combo (setup.py) ... \u001b[?25l\u001b[?25hdone\n",
            "  Created wheel for combo: filename=combo-0.1.1-cp36-none-any.whl size=42113 sha256=72fe4113c1215cd1b7127134c25c73e862e77fb515b3517230b5bd1428f7646d\n",
            "  Stored in directory: /root/.cache/pip/wheels/55/ec/e5/a2331372c676c467e70c6646e646edf6997d5c4905b8c0f5e6\n",
            "  Building wheel for suod (setup.py) ... \u001b[?25l\u001b[?25hdone\n",
            "  Created wheel for suod: filename=suod-0.0.4-cp36-none-any.whl size=2167158 sha256=2a6ebbf3e6dbf045c956d30812ffe446433a7ca4d0aa2cb68870452c0c7bdc79\n",
            "  Stored in directory: /root/.cache/pip/wheels/57/55/e5/a4fca65bba231f6d0115059b589148774b41faea25b3f2aa27\n",
            "Successfully built pyod combo suod\n",
            "Installing collected packages: combo, suod, pyod\n",
            "Successfully installed combo-0.1.1 pyod-0.8.3 suod-0.0.4\n"
          ],
          "name": "stdout"
        }
      ]
    },
    {
      "cell_type": "code",
      "metadata": {
        "id": "P4IqtP7owQnc",
        "colab": {
          "base_uri": "https://localhost:8080/"
        },
        "outputId": "68cec461-0dc7-4478-eb6f-551b0db1d343"
      },
      "source": [
        "# Segregate the salary values and the class labels \n",
        "X = salary_df['Salary (in USD)'].values.reshape(-1,1)\n",
        "y = salary_df['class'].values\n",
        "\n",
        "# Train kNN detector\n",
        "clf = KNN(contamination=0.02, n_neighbors=5)\n",
        "# percentage of outliers\n",
        "clf.fit(X)\n",
        "\n",
        "\n",
        "# Get the prediction labels of the training data\n",
        "y_train_pred = clf.labels_ \n",
        "print(\"prediction labels \", y_train_pred)    \n",
        "# Outlier scores\n",
        "y_train_scores = clf.decision_scores_\n",
        "print(\"outliers\", y_train_scores)"
      ],
      "execution_count": null,
      "outputs": [
        {
          "output_type": "stream",
          "text": [
            "prediction labels  [0 0 0 0 0 0 0 0 0 0 0 0 0 0 0 0 1 0 0 0 0 0 0 0 0 0 0 0 0 0 0 0 0 0 0 0 0\n",
            " 0 0 0 0 0 0 0 0 0 0 0 0 0 0 0 0 0 0 0 0 0 0 0 0 0 0 0 0 1 0 0 0 0 0 0 0 0\n",
            " 0 0 0 0 0 0 0 0 0 0 0 0 0 0 0 0 0 0 0 0 0 0 0 0 0 0]\n",
            "outliers [  68.   28.   35.   33.   39.   21.   43.   30.   46.   33.   36.   27.\n",
            "   30.   34.   36.   28. 1024.   34.   35.   17.   48.   39.   39.   66.\n",
            "   30.   39.   49.   29.   67.   26.   37.   21.   26.   30.   36.   49.\n",
            "   47.   29.   15.   38.   25.   28.   51.   21.   33.   44.   41.   42.\n",
            "   17.   50.   20.   29.   19.   31.   33.   57.   42.   28.   71.   18.\n",
            "   39.   37.   13.   43.   43. 1030.   43.   54.   19.   24.   74.   29.\n",
            "   63.   23.   49.   33.   22.   40.   46.   86.   47.   60.   21.   30.\n",
            "   40.   74.   37.   60.   68.   76.   82.   26.   36.   43.   72.   30.\n",
            "   54.   59.   61.   30.]\n"
          ],
          "name": "stdout"
        }
      ]
    },
    {
      "cell_type": "code",
      "metadata": {
        "id": "mnBdDic-waRL",
        "colab": {
          "base_uri": "https://localhost:8080/"
        },
        "outputId": "dbff3aa5-36ca-4c10-9d17-9a6914e90d05"
      },
      "source": [
        "# Import the utility function for model evaluation\n",
        "from pyod.utils import evaluate_print\n",
        "\n",
        "# Evaluate on the training data\n",
        "evaluate_print('KNN', y, y_train_scores)\n",
        "#check documentation for ouput https://pyod.readthedocs.io/en/latest/example.html'\n",
        "# https://machinelearningmastery.com/roc-curves-and-precision-recall-curves-for-classification-in-python/\n",
        "\n"
      ],
      "execution_count": null,
      "outputs": [
        {
          "output_type": "stream",
          "text": [
            "KNN ROC:1.0, precision @ rank n:1.0\n"
          ],
          "name": "stdout"
        }
      ]
    },
    {
      "cell_type": "markdown",
      "metadata": {
        "id": "O0OFtK08wgUu"
      },
      "source": [
        "We see that the KNN() model was able to perform exceptionally good on the training data. It provides three metrics and their scores -\n",
        "\n",
        "ROC\n",
        "Precision along with a confidence rank"
      ]
    },
    {
      "cell_type": "code",
      "metadata": {
        "id": "zBFLcvzGwjyD"
      },
      "source": [
        "# A salary of $37 (an anomaly right?)\n",
        "X_test = np.array([[37.]])"
      ],
      "execution_count": null,
      "outputs": []
    },
    {
      "cell_type": "code",
      "metadata": {
        "id": "Jjh5N32Kwlo2",
        "colab": {
          "base_uri": "https://localhost:8080/"
        },
        "outputId": "5f00ed81-4ec5-4922-8b32-11a4242ee628"
      },
      "source": [
        "# Check what the model predicts on the given test data point\n",
        "clf.predict(X_test)"
      ],
      "execution_count": null,
      "outputs": [
        {
          "output_type": "execute_result",
          "data": {
            "text/plain": [
              "array([1])"
            ]
          },
          "metadata": {
            "tags": []
          },
          "execution_count": 23
        }
      ]
    },
    {
      "cell_type": "code",
      "metadata": {
        "id": "el6XJRN4wqQ6",
        "colab": {
          "base_uri": "https://localhost:8080/"
        },
        "outputId": "de7dafa0-52ac-4d82-8991-bd4810abc056"
      },
      "source": [
        "# A salary of $1256\n",
        "X_test_abnormal = np.array([[1256.]])\n",
        "\n",
        "# Predict\n",
        "clf.predict(X_test_abnormal)"
      ],
      "execution_count": null,
      "outputs": [
        {
          "output_type": "execute_result",
          "data": {
            "text/plain": [
              "array([0])"
            ]
          },
          "metadata": {
            "tags": []
          },
          "execution_count": 24
        }
      ]
    },
    {
      "cell_type": "code",
      "metadata": {
        "id": "oTtBzvlcwtE1"
      },
      "source": [
        ""
      ],
      "execution_count": null,
      "outputs": []
    },
    {
      "cell_type": "markdown",
      "metadata": {
        "id": "qefrvEpLhIDV"
      },
      "source": [
        "#Other references and links: \n",
        "- https://www.jeremyjordan.me/autoencoders/\n",
        "- http://ufldl.stanford.edu/tutorial/unsupervised/Autoencoders/\n",
        "- https://www.kdnuggets.com/2018/12/four-techniques-outlier-detection.html\n",
        "- https://towardsdatascience.com/a-brief-overview-of-outlier-detection-techniques-1e0b2c19e561\n",
        "- https://github.com/jeffheaton/t81_558_deep_learning/blob/b2fffd1b89d3d37adf4c9d82c4cbc991f871f3a3/t81_558_class_14_03_anomaly.ipynb\n",
        "- https://www.pyimagesearch.com/2020/03/02/anomaly-detection-with-keras-tensorflow-and-deep-learning/\n",
        "- https://blog.floydhub.com/introduction-to-anomaly-detection-in-python/\n",
        "- https://www.edureka.co/blog/autoencoders-tutorial/\n",
        "\n"
      ]
    },
    {
      "cell_type": "code",
      "metadata": {
        "id": "19hCiapIwk2F"
      },
      "source": [
        ""
      ],
      "execution_count": null,
      "outputs": []
    },
    {
      "cell_type": "markdown",
      "metadata": {
        "id": "d6-bgoKuzJCl"
      },
      "source": [
        "# Autoencoders"
      ]
    },
    {
      "cell_type": "markdown",
      "metadata": {
        "id": "T-nqROUGzK2V"
      },
      "source": [
        "https://www.tensorflow.org/tutorials/generative/autoencoder"
      ]
    },
    {
      "cell_type": "code",
      "metadata": {
        "id": "0Pwphu6sv7HK"
      },
      "source": [
        "import matplotlib.pyplot as plt\n",
        "import numpy as np\n",
        "import pandas as pd\n",
        "import tensorflow as tf\n",
        "\n",
        "from sklearn.metrics import accuracy_score, precision_score, recall_score\n",
        "from sklearn.model_selection import train_test_split\n",
        "from tensorflow.keras import layers, losses\n",
        "from tensorflow.keras.datasets import fashion_mnist\n",
        "from tensorflow.keras.models import Model"
      ],
      "execution_count": null,
      "outputs": []
    },
    {
      "cell_type": "code",
      "metadata": {
        "id": "CBrQs7rZhVoG",
        "colab": {
          "base_uri": "https://localhost:8080/"
        },
        "outputId": "d2f03eac-7573-4357-94b0-0c23ab4fa9bc"
      },
      "source": [
        "(x_train, _), (x_test, _) = fashion_mnist.load_data()"
      ],
      "execution_count": null,
      "outputs": [
        {
          "output_type": "stream",
          "text": [
            "Downloading data from https://storage.googleapis.com/tensorflow/tf-keras-datasets/train-labels-idx1-ubyte.gz\n",
            "32768/29515 [=================================] - 0s 0us/step\n",
            "Downloading data from https://storage.googleapis.com/tensorflow/tf-keras-datasets/train-images-idx3-ubyte.gz\n",
            "26427392/26421880 [==============================] - 0s 0us/step\n",
            "Downloading data from https://storage.googleapis.com/tensorflow/tf-keras-datasets/t10k-labels-idx1-ubyte.gz\n",
            "8192/5148 [===============================================] - 0s 0us/step\n",
            "Downloading data from https://storage.googleapis.com/tensorflow/tf-keras-datasets/t10k-images-idx3-ubyte.gz\n",
            "4423680/4422102 [==============================] - 0s 0us/step\n"
          ],
          "name": "stdout"
        }
      ]
    },
    {
      "cell_type": "code",
      "metadata": {
        "id": "_nfqhe967TDo",
        "colab": {
          "base_uri": "https://localhost:8080/"
        },
        "outputId": "a0d697b3-7ed4-46be-fe8b-50c466265d07"
      },
      "source": [
        "x_train[0]"
      ],
      "execution_count": null,
      "outputs": [
        {
          "output_type": "execute_result",
          "data": {
            "text/plain": [
              "array([[  0,   0,   0,   0,   0,   0,   0,   0,   0,   0,   0,   0,   0,\n",
              "          0,   0,   0,   0,   0,   0,   0,   0,   0,   0,   0,   0,   0,\n",
              "          0,   0],\n",
              "       [  0,   0,   0,   0,   0,   0,   0,   0,   0,   0,   0,   0,   0,\n",
              "          0,   0,   0,   0,   0,   0,   0,   0,   0,   0,   0,   0,   0,\n",
              "          0,   0],\n",
              "       [  0,   0,   0,   0,   0,   0,   0,   0,   0,   0,   0,   0,   0,\n",
              "          0,   0,   0,   0,   0,   0,   0,   0,   0,   0,   0,   0,   0,\n",
              "          0,   0],\n",
              "       [  0,   0,   0,   0,   0,   0,   0,   0,   0,   0,   0,   0,   1,\n",
              "          0,   0,  13,  73,   0,   0,   1,   4,   0,   0,   0,   0,   1,\n",
              "          1,   0],\n",
              "       [  0,   0,   0,   0,   0,   0,   0,   0,   0,   0,   0,   0,   3,\n",
              "          0,  36, 136, 127,  62,  54,   0,   0,   0,   1,   3,   4,   0,\n",
              "          0,   3],\n",
              "       [  0,   0,   0,   0,   0,   0,   0,   0,   0,   0,   0,   0,   6,\n",
              "          0, 102, 204, 176, 134, 144, 123,  23,   0,   0,   0,   0,  12,\n",
              "         10,   0],\n",
              "       [  0,   0,   0,   0,   0,   0,   0,   0,   0,   0,   0,   0,   0,\n",
              "          0, 155, 236, 207, 178, 107, 156, 161, 109,  64,  23,  77, 130,\n",
              "         72,  15],\n",
              "       [  0,   0,   0,   0,   0,   0,   0,   0,   0,   0,   0,   1,   0,\n",
              "         69, 207, 223, 218, 216, 216, 163, 127, 121, 122, 146, 141,  88,\n",
              "        172,  66],\n",
              "       [  0,   0,   0,   0,   0,   0,   0,   0,   0,   1,   1,   1,   0,\n",
              "        200, 232, 232, 233, 229, 223, 223, 215, 213, 164, 127, 123, 196,\n",
              "        229,   0],\n",
              "       [  0,   0,   0,   0,   0,   0,   0,   0,   0,   0,   0,   0,   0,\n",
              "        183, 225, 216, 223, 228, 235, 227, 224, 222, 224, 221, 223, 245,\n",
              "        173,   0],\n",
              "       [  0,   0,   0,   0,   0,   0,   0,   0,   0,   0,   0,   0,   0,\n",
              "        193, 228, 218, 213, 198, 180, 212, 210, 211, 213, 223, 220, 243,\n",
              "        202,   0],\n",
              "       [  0,   0,   0,   0,   0,   0,   0,   0,   0,   1,   3,   0,  12,\n",
              "        219, 220, 212, 218, 192, 169, 227, 208, 218, 224, 212, 226, 197,\n",
              "        209,  52],\n",
              "       [  0,   0,   0,   0,   0,   0,   0,   0,   0,   0,   6,   0,  99,\n",
              "        244, 222, 220, 218, 203, 198, 221, 215, 213, 222, 220, 245, 119,\n",
              "        167,  56],\n",
              "       [  0,   0,   0,   0,   0,   0,   0,   0,   0,   4,   0,   0,  55,\n",
              "        236, 228, 230, 228, 240, 232, 213, 218, 223, 234, 217, 217, 209,\n",
              "         92,   0],\n",
              "       [  0,   0,   1,   4,   6,   7,   2,   0,   0,   0,   0,   0, 237,\n",
              "        226, 217, 223, 222, 219, 222, 221, 216, 223, 229, 215, 218, 255,\n",
              "         77,   0],\n",
              "       [  0,   3,   0,   0,   0,   0,   0,   0,   0,  62, 145, 204, 228,\n",
              "        207, 213, 221, 218, 208, 211, 218, 224, 223, 219, 215, 224, 244,\n",
              "        159,   0],\n",
              "       [  0,   0,   0,   0,  18,  44,  82, 107, 189, 228, 220, 222, 217,\n",
              "        226, 200, 205, 211, 230, 224, 234, 176, 188, 250, 248, 233, 238,\n",
              "        215,   0],\n",
              "       [  0,  57, 187, 208, 224, 221, 224, 208, 204, 214, 208, 209, 200,\n",
              "        159, 245, 193, 206, 223, 255, 255, 221, 234, 221, 211, 220, 232,\n",
              "        246,   0],\n",
              "       [  3, 202, 228, 224, 221, 211, 211, 214, 205, 205, 205, 220, 240,\n",
              "         80, 150, 255, 229, 221, 188, 154, 191, 210, 204, 209, 222, 228,\n",
              "        225,   0],\n",
              "       [ 98, 233, 198, 210, 222, 229, 229, 234, 249, 220, 194, 215, 217,\n",
              "        241,  65,  73, 106, 117, 168, 219, 221, 215, 217, 223, 223, 224,\n",
              "        229,  29],\n",
              "       [ 75, 204, 212, 204, 193, 205, 211, 225, 216, 185, 197, 206, 198,\n",
              "        213, 240, 195, 227, 245, 239, 223, 218, 212, 209, 222, 220, 221,\n",
              "        230,  67],\n",
              "       [ 48, 203, 183, 194, 213, 197, 185, 190, 194, 192, 202, 214, 219,\n",
              "        221, 220, 236, 225, 216, 199, 206, 186, 181, 177, 172, 181, 205,\n",
              "        206, 115],\n",
              "       [  0, 122, 219, 193, 179, 171, 183, 196, 204, 210, 213, 207, 211,\n",
              "        210, 200, 196, 194, 191, 195, 191, 198, 192, 176, 156, 167, 177,\n",
              "        210,  92],\n",
              "       [  0,   0,  74, 189, 212, 191, 175, 172, 175, 181, 185, 188, 189,\n",
              "        188, 193, 198, 204, 209, 210, 210, 211, 188, 188, 194, 192, 216,\n",
              "        170,   0],\n",
              "       [  2,   0,   0,   0,  66, 200, 222, 237, 239, 242, 246, 243, 244,\n",
              "        221, 220, 193, 191, 179, 182, 182, 181, 176, 166, 168,  99,  58,\n",
              "          0,   0],\n",
              "       [  0,   0,   0,   0,   0,   0,   0,  40,  61,  44,  72,  41,  35,\n",
              "          0,   0,   0,   0,   0,   0,   0,   0,   0,   0,   0,   0,   0,\n",
              "          0,   0],\n",
              "       [  0,   0,   0,   0,   0,   0,   0,   0,   0,   0,   0,   0,   0,\n",
              "          0,   0,   0,   0,   0,   0,   0,   0,   0,   0,   0,   0,   0,\n",
              "          0,   0],\n",
              "       [  0,   0,   0,   0,   0,   0,   0,   0,   0,   0,   0,   0,   0,\n",
              "          0,   0,   0,   0,   0,   0,   0,   0,   0,   0,   0,   0,   0,\n",
              "          0,   0]], dtype=uint8)"
            ]
          },
          "metadata": {
            "tags": []
          },
          "execution_count": 3
        }
      ]
    },
    {
      "cell_type": "code",
      "metadata": {
        "id": "HU_y_TOF66SC",
        "colab": {
          "base_uri": "https://localhost:8080/",
          "height": 282
        },
        "outputId": "64f52a9f-edc6-4d20-92e5-005be9926805"
      },
      "source": [
        "plt.imshow(x_train[9], cmap=\"Greys\")"
      ],
      "execution_count": null,
      "outputs": [
        {
          "output_type": "execute_result",
          "data": {
            "text/plain": [
              "<matplotlib.image.AxesImage at 0x7f5df14d0160>"
            ]
          },
          "metadata": {
            "tags": []
          },
          "execution_count": 10
        },
        {
          "output_type": "display_data",
          "data": {
            "image/png": "[encoded data removed]",
            "text/plain": [
              "<Figure size 432x288 with 1 Axes>"
            ]
          },
          "metadata": {
            "tags": [],
            "needs_background": "light"
          }
        }
      ]
    },
    {
      "cell_type": "code",
      "metadata": {
        "id": "37qzpP4t7Mkz",
        "colab": {
          "base_uri": "https://localhost:8080/"
        },
        "outputId": "1dd8231a-2b71-476b-b046-ffba0ebe48a2"
      },
      "source": [
        "x_train = x_train.astype('float32') / 255.\n",
        "x_test = x_test.astype('float32') / 255.\n",
        "\n",
        "x_train = x_train[..., tf.newaxis]\n",
        "x_test = x_test[..., tf.newaxis]\n",
        "\n",
        "print(x_train.shape)"
      ],
      "execution_count": null,
      "outputs": [
        {
          "output_type": "stream",
          "text": [
            "(60000, 28, 28, 1)\n"
          ],
          "name": "stdout"
        }
      ]
    },
    {
      "cell_type": "code",
      "metadata": {
        "id": "8YR9Do1qMZ37",
        "colab": {
          "base_uri": "https://localhost:8080/"
        },
        "outputId": "9b498b95-bb57-49a2-9ebd-8cf685c1b0cc"
      },
      "source": [
        "x_train[0]"
      ],
      "execution_count": null,
      "outputs": [
        {
          "output_type": "execute_result",
          "data": {
            "text/plain": [
              "array([[[0.        ],\n",
              "        [0.        ],\n",
              "        [0.        ],\n",
              "        [0.        ],\n",
              "        [0.        ],\n",
              "        [0.        ],\n",
              "        [0.        ],\n",
              "        [0.        ],\n",
              "        [0.        ],\n",
              "        [0.        ],\n",
              "        [0.        ],\n",
              "        [0.        ],\n",
              "        [0.        ],\n",
              "        [0.        ],\n",
              "        [0.        ],\n",
              "        [0.        ],\n",
              "        [0.        ],\n",
              "        [0.        ],\n",
              "        [0.        ],\n",
              "        [0.        ],\n",
              "        [0.        ],\n",
              "        [0.        ],\n",
              "        [0.        ],\n",
              "        [0.        ],\n",
              "        [0.        ],\n",
              "        [0.        ],\n",
              "        [0.        ],\n",
              "        [0.        ]],\n",
              "\n",
              "       [[0.        ],\n",
              "        [0.        ],\n",
              "        [0.        ],\n",
              "        [0.        ],\n",
              "        [0.        ],\n",
              "        [0.        ],\n",
              "        [0.        ],\n",
              "        [0.        ],\n",
              "        [0.        ],\n",
              "        [0.        ],\n",
              "        [0.        ],\n",
              "        [0.        ],\n",
              "        [0.        ],\n",
              "        [0.        ],\n",
              "        [0.        ],\n",
              "        [0.        ],\n",
              "        [0.        ],\n",
              "        [0.        ],\n",
              "        [0.        ],\n",
              "        [0.        ],\n",
              "        [0.        ],\n",
              "        [0.        ],\n",
              "        [0.        ],\n",
              "        [0.        ],\n",
              "        [0.        ],\n",
              "        [0.        ],\n",
              "        [0.        ],\n",
              "        [0.        ]],\n",
              "\n",
              "       [[0.        ],\n",
              "        [0.        ],\n",
              "        [0.        ],\n",
              "        [0.        ],\n",
              "        [0.        ],\n",
              "        [0.        ],\n",
              "        [0.        ],\n",
              "        [0.        ],\n",
              "        [0.        ],\n",
              "        [0.        ],\n",
              "        [0.        ],\n",
              "        [0.        ],\n",
              "        [0.        ],\n",
              "        [0.        ],\n",
              "        [0.        ],\n",
              "        [0.        ],\n",
              "        [0.        ],\n",
              "        [0.        ],\n",
              "        [0.        ],\n",
              "        [0.        ],\n",
              "        [0.        ],\n",
              "        [0.        ],\n",
              "        [0.        ],\n",
              "        [0.        ],\n",
              "        [0.        ],\n",
              "        [0.        ],\n",
              "        [0.        ],\n",
              "        [0.        ]],\n",
              "\n",
              "       [[0.        ],\n",
              "        [0.        ],\n",
              "        [0.        ],\n",
              "        [0.        ],\n",
              "        [0.        ],\n",
              "        [0.        ],\n",
              "        [0.        ],\n",
              "        [0.        ],\n",
              "        [0.        ],\n",
              "        [0.        ],\n",
              "        [0.        ],\n",
              "        [0.        ],\n",
              "        [0.00392157],\n",
              "        [0.        ],\n",
              "        [0.        ],\n",
              "        [0.05098039],\n",
              "        [0.28627452],\n",
              "        [0.        ],\n",
              "        [0.        ],\n",
              "        [0.00392157],\n",
              "        [0.01568628],\n",
              "        [0.        ],\n",
              "        [0.        ],\n",
              "        [0.        ],\n",
              "        [0.        ],\n",
              "        [0.00392157],\n",
              "        [0.00392157],\n",
              "        [0.        ]],\n",
              "\n",
              "       [[0.        ],\n",
              "        [0.        ],\n",
              "        [0.        ],\n",
              "        [0.        ],\n",
              "        [0.        ],\n",
              "        [0.        ],\n",
              "        [0.        ],\n",
              "        [0.        ],\n",
              "        [0.        ],\n",
              "        [0.        ],\n",
              "        [0.        ],\n",
              "        [0.        ],\n",
              "        [0.01176471],\n",
              "        [0.        ],\n",
              "        [0.14117648],\n",
              "        [0.53333336],\n",
              "        [0.49803922],\n",
              "        [0.24313726],\n",
              "        [0.21176471],\n",
              "        [0.        ],\n",
              "        [0.        ],\n",
              "        [0.        ],\n",
              "        [0.00392157],\n",
              "        [0.01176471],\n",
              "        [0.01568628],\n",
              "        [0.        ],\n",
              "        [0.        ],\n",
              "        [0.01176471]],\n",
              "\n",
              "       [[0.        ],\n",
              "        [0.        ],\n",
              "        [0.        ],\n",
              "        [0.        ],\n",
              "        [0.        ],\n",
              "        [0.        ],\n",
              "        [0.        ],\n",
              "        [0.        ],\n",
              "        [0.        ],\n",
              "        [0.        ],\n",
              "        [0.        ],\n",
              "        [0.        ],\n",
              "        [0.02352941],\n",
              "        [0.        ],\n",
              "        [0.4       ],\n",
              "        [0.8       ],\n",
              "        [0.6901961 ],\n",
              "        [0.5254902 ],\n",
              "        [0.5647059 ],\n",
              "        [0.48235294],\n",
              "        [0.09019608],\n",
              "        [0.        ],\n",
              "        [0.        ],\n",
              "        [0.        ],\n",
              "        [0.        ],\n",
              "        [0.04705882],\n",
              "        [0.03921569],\n",
              "        [0.        ]],\n",
              "\n",
              "       [[0.        ],\n",
              "        [0.        ],\n",
              "        [0.        ],\n",
              "        [0.        ],\n",
              "        [0.        ],\n",
              "        [0.        ],\n",
              "        [0.        ],\n",
              "        [0.        ],\n",
              "        [0.        ],\n",
              "        [0.        ],\n",
              "        [0.        ],\n",
              "        [0.        ],\n",
              "        [0.        ],\n",
              "        [0.        ],\n",
              "        [0.60784316],\n",
              "        [0.9254902 ],\n",
              "        [0.8117647 ],\n",
              "        [0.69803923],\n",
              "        [0.41960785],\n",
              "        [0.6117647 ],\n",
              "        [0.6313726 ],\n",
              "        [0.42745098],\n",
              "        [0.2509804 ],\n",
              "        [0.09019608],\n",
              "        [0.3019608 ],\n",
              "        [0.50980395],\n",
              "        [0.28235295],\n",
              "        [0.05882353]],\n",
              "\n",
              "       [[0.        ],\n",
              "        [0.        ],\n",
              "        [0.        ],\n",
              "        [0.        ],\n",
              "        [0.        ],\n",
              "        [0.        ],\n",
              "        [0.        ],\n",
              "        [0.        ],\n",
              "        [0.        ],\n",
              "        [0.        ],\n",
              "        [0.        ],\n",
              "        [0.00392157],\n",
              "        [0.        ],\n",
              "        [0.27058825],\n",
              "        [0.8117647 ],\n",
              "        [0.8745098 ],\n",
              "        [0.85490197],\n",
              "        [0.84705883],\n",
              "        [0.84705883],\n",
              "        [0.6392157 ],\n",
              "        [0.49803922],\n",
              "        [0.4745098 ],\n",
              "        [0.47843137],\n",
              "        [0.57254905],\n",
              "        [0.5529412 ],\n",
              "        [0.34509805],\n",
              "        [0.6745098 ],\n",
              "        [0.25882354]],\n",
              "\n",
              "       [[0.        ],\n",
              "        [0.        ],\n",
              "        [0.        ],\n",
              "        [0.        ],\n",
              "        [0.        ],\n",
              "        [0.        ],\n",
              "        [0.        ],\n",
              "        [0.        ],\n",
              "        [0.        ],\n",
              "        [0.00392157],\n",
              "        [0.00392157],\n",
              "        [0.00392157],\n",
              "        [0.        ],\n",
              "        [0.78431374],\n",
              "        [0.9098039 ],\n",
              "        [0.9098039 ],\n",
              "        [0.9137255 ],\n",
              "        [0.8980392 ],\n",
              "        [0.8745098 ],\n",
              "        [0.8745098 ],\n",
              "        [0.84313726],\n",
              "        [0.8352941 ],\n",
              "        [0.6431373 ],\n",
              "        [0.49803922],\n",
              "        [0.48235294],\n",
              "        [0.76862746],\n",
              "        [0.8980392 ],\n",
              "        [0.        ]],\n",
              "\n",
              "       [[0.        ],\n",
              "        [0.        ],\n",
              "        [0.        ],\n",
              "        [0.        ],\n",
              "        [0.        ],\n",
              "        [0.        ],\n",
              "        [0.        ],\n",
              "        [0.        ],\n",
              "        [0.        ],\n",
              "        [0.        ],\n",
              "        [0.        ],\n",
              "        [0.        ],\n",
              "        [0.        ],\n",
              "        [0.7176471 ],\n",
              "        [0.88235295],\n",
              "        [0.84705883],\n",
              "        [0.8745098 ],\n",
              "        [0.89411765],\n",
              "        [0.92156863],\n",
              "        [0.8901961 ],\n",
              "        [0.8784314 ],\n",
              "        [0.87058824],\n",
              "        [0.8784314 ],\n",
              "        [0.8666667 ],\n",
              "        [0.8745098 ],\n",
              "        [0.9607843 ],\n",
              "        [0.6784314 ],\n",
              "        [0.        ]],\n",
              "\n",
              "       [[0.        ],\n",
              "        [0.        ],\n",
              "        [0.        ],\n",
              "        [0.        ],\n",
              "        [0.        ],\n",
              "        [0.        ],\n",
              "        [0.        ],\n",
              "        [0.        ],\n",
              "        [0.        ],\n",
              "        [0.        ],\n",
              "        [0.        ],\n",
              "        [0.        ],\n",
              "        [0.        ],\n",
              "        [0.75686276],\n",
              "        [0.89411765],\n",
              "        [0.85490197],\n",
              "        [0.8352941 ],\n",
              "        [0.7764706 ],\n",
              "        [0.7058824 ],\n",
              "        [0.83137256],\n",
              "        [0.8235294 ],\n",
              "        [0.827451  ],\n",
              "        [0.8352941 ],\n",
              "        [0.8745098 ],\n",
              "        [0.8627451 ],\n",
              "        [0.9529412 ],\n",
              "        [0.7921569 ],\n",
              "        [0.        ]],\n",
              "\n",
              "       [[0.        ],\n",
              "        [0.        ],\n",
              "        [0.        ],\n",
              "        [0.        ],\n",
              "        [0.        ],\n",
              "        [0.        ],\n",
              "        [0.        ],\n",
              "        [0.        ],\n",
              "        [0.        ],\n",
              "        [0.00392157],\n",
              "        [0.01176471],\n",
              "        [0.        ],\n",
              "        [0.04705882],\n",
              "        [0.85882354],\n",
              "        [0.8627451 ],\n",
              "        [0.83137256],\n",
              "        [0.85490197],\n",
              "        [0.7529412 ],\n",
              "        [0.6627451 ],\n",
              "        [0.8901961 ],\n",
              "        [0.8156863 ],\n",
              "        [0.85490197],\n",
              "        [0.8784314 ],\n",
              "        [0.83137256],\n",
              "        [0.8862745 ],\n",
              "        [0.77254903],\n",
              "        [0.81960785],\n",
              "        [0.20392157]],\n",
              "\n",
              "       [[0.        ],\n",
              "        [0.        ],\n",
              "        [0.        ],\n",
              "        [0.        ],\n",
              "        [0.        ],\n",
              "        [0.        ],\n",
              "        [0.        ],\n",
              "        [0.        ],\n",
              "        [0.        ],\n",
              "        [0.        ],\n",
              "        [0.02352941],\n",
              "        [0.        ],\n",
              "        [0.3882353 ],\n",
              "        [0.95686275],\n",
              "        [0.87058824],\n",
              "        [0.8627451 ],\n",
              "        [0.85490197],\n",
              "        [0.79607844],\n",
              "        [0.7764706 ],\n",
              "        [0.8666667 ],\n",
              "        [0.84313726],\n",
              "        [0.8352941 ],\n",
              "        [0.87058824],\n",
              "        [0.8627451 ],\n",
              "        [0.9607843 ],\n",
              "        [0.46666667],\n",
              "        [0.654902  ],\n",
              "        [0.21960784]],\n",
              "\n",
              "       [[0.        ],\n",
              "        [0.        ],\n",
              "        [0.        ],\n",
              "        [0.        ],\n",
              "        [0.        ],\n",
              "        [0.        ],\n",
              "        [0.        ],\n",
              "        [0.        ],\n",
              "        [0.        ],\n",
              "        [0.01568628],\n",
              "        [0.        ],\n",
              "        [0.        ],\n",
              "        [0.21568628],\n",
              "        [0.9254902 ],\n",
              "        [0.89411765],\n",
              "        [0.9019608 ],\n",
              "        [0.89411765],\n",
              "        [0.9411765 ],\n",
              "        [0.9098039 ],\n",
              "        [0.8352941 ],\n",
              "        [0.85490197],\n",
              "        [0.8745098 ],\n",
              "        [0.91764706],\n",
              "        [0.8509804 ],\n",
              "        [0.8509804 ],\n",
              "        [0.81960785],\n",
              "        [0.36078432],\n",
              "        [0.        ]],\n",
              "\n",
              "       [[0.        ],\n",
              "        [0.        ],\n",
              "        [0.00392157],\n",
              "        [0.01568628],\n",
              "        [0.02352941],\n",
              "        [0.02745098],\n",
              "        [0.00784314],\n",
              "        [0.        ],\n",
              "        [0.        ],\n",
              "        [0.        ],\n",
              "        [0.        ],\n",
              "        [0.        ],\n",
              "        [0.92941177],\n",
              "        [0.8862745 ],\n",
              "        [0.8509804 ],\n",
              "        [0.8745098 ],\n",
              "        [0.87058824],\n",
              "        [0.85882354],\n",
              "        [0.87058824],\n",
              "        [0.8666667 ],\n",
              "        [0.84705883],\n",
              "        [0.8745098 ],\n",
              "        [0.8980392 ],\n",
              "        [0.84313726],\n",
              "        [0.85490197],\n",
              "        [1.        ],\n",
              "        [0.3019608 ],\n",
              "        [0.        ]],\n",
              "\n",
              "       [[0.        ],\n",
              "        [0.01176471],\n",
              "        [0.        ],\n",
              "        [0.        ],\n",
              "        [0.        ],\n",
              "        [0.        ],\n",
              "        [0.        ],\n",
              "        [0.        ],\n",
              "        [0.        ],\n",
              "        [0.24313726],\n",
              "        [0.5686275 ],\n",
              "        [0.8       ],\n",
              "        [0.89411765],\n",
              "        [0.8117647 ],\n",
              "        [0.8352941 ],\n",
              "        [0.8666667 ],\n",
              "        [0.85490197],\n",
              "        [0.8156863 ],\n",
              "        [0.827451  ],\n",
              "        [0.85490197],\n",
              "        [0.8784314 ],\n",
              "        [0.8745098 ],\n",
              "        [0.85882354],\n",
              "        [0.84313726],\n",
              "        [0.8784314 ],\n",
              "        [0.95686275],\n",
              "        [0.62352943],\n",
              "        [0.        ]],\n",
              "\n",
              "       [[0.        ],\n",
              "        [0.        ],\n",
              "        [0.        ],\n",
              "        [0.        ],\n",
              "        [0.07058824],\n",
              "        [0.17254902],\n",
              "        [0.32156864],\n",
              "        [0.41960785],\n",
              "        [0.7411765 ],\n",
              "        [0.89411765],\n",
              "        [0.8627451 ],\n",
              "        [0.87058824],\n",
              "        [0.8509804 ],\n",
              "        [0.8862745 ],\n",
              "        [0.78431374],\n",
              "        [0.8039216 ],\n",
              "        [0.827451  ],\n",
              "        [0.9019608 ],\n",
              "        [0.8784314 ],\n",
              "        [0.91764706],\n",
              "        [0.6901961 ],\n",
              "        [0.7372549 ],\n",
              "        [0.98039216],\n",
              "        [0.972549  ],\n",
              "        [0.9137255 ],\n",
              "        [0.93333334],\n",
              "        [0.84313726],\n",
              "        [0.        ]],\n",
              "\n",
              "       [[0.        ],\n",
              "        [0.22352941],\n",
              "        [0.73333335],\n",
              "        [0.8156863 ],\n",
              "        [0.8784314 ],\n",
              "        [0.8666667 ],\n",
              "        [0.8784314 ],\n",
              "        [0.8156863 ],\n",
              "        [0.8       ],\n",
              "        [0.8392157 ],\n",
              "        [0.8156863 ],\n",
              "        [0.81960785],\n",
              "        [0.78431374],\n",
              "        [0.62352943],\n",
              "        [0.9607843 ],\n",
              "        [0.75686276],\n",
              "        [0.80784315],\n",
              "        [0.8745098 ],\n",
              "        [1.        ],\n",
              "        [1.        ],\n",
              "        [0.8666667 ],\n",
              "        [0.91764706],\n",
              "        [0.8666667 ],\n",
              "        [0.827451  ],\n",
              "        [0.8627451 ],\n",
              "        [0.9098039 ],\n",
              "        [0.9647059 ],\n",
              "        [0.        ]],\n",
              "\n",
              "       [[0.01176471],\n",
              "        [0.7921569 ],\n",
              "        [0.89411765],\n",
              "        [0.8784314 ],\n",
              "        [0.8666667 ],\n",
              "        [0.827451  ],\n",
              "        [0.827451  ],\n",
              "        [0.8392157 ],\n",
              "        [0.8039216 ],\n",
              "        [0.8039216 ],\n",
              "        [0.8039216 ],\n",
              "        [0.8627451 ],\n",
              "        [0.9411765 ],\n",
              "        [0.3137255 ],\n",
              "        [0.5882353 ],\n",
              "        [1.        ],\n",
              "        [0.8980392 ],\n",
              "        [0.8666667 ],\n",
              "        [0.7372549 ],\n",
              "        [0.6039216 ],\n",
              "        [0.7490196 ],\n",
              "        [0.8235294 ],\n",
              "        [0.8       ],\n",
              "        [0.81960785],\n",
              "        [0.87058824],\n",
              "        [0.89411765],\n",
              "        [0.88235295],\n",
              "        [0.        ]],\n",
              "\n",
              "       [[0.38431373],\n",
              "        [0.9137255 ],\n",
              "        [0.7764706 ],\n",
              "        [0.8235294 ],\n",
              "        [0.87058824],\n",
              "        [0.8980392 ],\n",
              "        [0.8980392 ],\n",
              "        [0.91764706],\n",
              "        [0.9764706 ],\n",
              "        [0.8627451 ],\n",
              "        [0.7607843 ],\n",
              "        [0.84313726],\n",
              "        [0.8509804 ],\n",
              "        [0.94509804],\n",
              "        [0.25490198],\n",
              "        [0.28627452],\n",
              "        [0.41568628],\n",
              "        [0.45882353],\n",
              "        [0.65882355],\n",
              "        [0.85882354],\n",
              "        [0.8666667 ],\n",
              "        [0.84313726],\n",
              "        [0.8509804 ],\n",
              "        [0.8745098 ],\n",
              "        [0.8745098 ],\n",
              "        [0.8784314 ],\n",
              "        [0.8980392 ],\n",
              "        [0.11372549]],\n",
              "\n",
              "       [[0.29411766],\n",
              "        [0.8       ],\n",
              "        [0.83137256],\n",
              "        [0.8       ],\n",
              "        [0.75686276],\n",
              "        [0.8039216 ],\n",
              "        [0.827451  ],\n",
              "        [0.88235295],\n",
              "        [0.84705883],\n",
              "        [0.7254902 ],\n",
              "        [0.77254903],\n",
              "        [0.80784315],\n",
              "        [0.7764706 ],\n",
              "        [0.8352941 ],\n",
              "        [0.9411765 ],\n",
              "        [0.7647059 ],\n",
              "        [0.8901961 ],\n",
              "        [0.9607843 ],\n",
              "        [0.9372549 ],\n",
              "        [0.8745098 ],\n",
              "        [0.85490197],\n",
              "        [0.83137256],\n",
              "        [0.81960785],\n",
              "        [0.87058824],\n",
              "        [0.8627451 ],\n",
              "        [0.8666667 ],\n",
              "        [0.9019608 ],\n",
              "        [0.2627451 ]],\n",
              "\n",
              "       [[0.1882353 ],\n",
              "        [0.79607844],\n",
              "        [0.7176471 ],\n",
              "        [0.7607843 ],\n",
              "        [0.8352941 ],\n",
              "        [0.77254903],\n",
              "        [0.7254902 ],\n",
              "        [0.74509805],\n",
              "        [0.7607843 ],\n",
              "        [0.7529412 ],\n",
              "        [0.7921569 ],\n",
              "        [0.8392157 ],\n",
              "        [0.85882354],\n",
              "        [0.8666667 ],\n",
              "        [0.8627451 ],\n",
              "        [0.9254902 ],\n",
              "        [0.88235295],\n",
              "        [0.84705883],\n",
              "        [0.78039217],\n",
              "        [0.80784315],\n",
              "        [0.7294118 ],\n",
              "        [0.70980394],\n",
              "        [0.69411767],\n",
              "        [0.6745098 ],\n",
              "        [0.70980394],\n",
              "        [0.8039216 ],\n",
              "        [0.80784315],\n",
              "        [0.4509804 ]],\n",
              "\n",
              "       [[0.        ],\n",
              "        [0.47843137],\n",
              "        [0.85882354],\n",
              "        [0.75686276],\n",
              "        [0.7019608 ],\n",
              "        [0.67058825],\n",
              "        [0.7176471 ],\n",
              "        [0.76862746],\n",
              "        [0.8       ],\n",
              "        [0.8235294 ],\n",
              "        [0.8352941 ],\n",
              "        [0.8117647 ],\n",
              "        [0.827451  ],\n",
              "        [0.8235294 ],\n",
              "        [0.78431374],\n",
              "        [0.76862746],\n",
              "        [0.7607843 ],\n",
              "        [0.7490196 ],\n",
              "        [0.7647059 ],\n",
              "        [0.7490196 ],\n",
              "        [0.7764706 ],\n",
              "        [0.7529412 ],\n",
              "        [0.6901961 ],\n",
              "        [0.6117647 ],\n",
              "        [0.654902  ],\n",
              "        [0.69411767],\n",
              "        [0.8235294 ],\n",
              "        [0.36078432]],\n",
              "\n",
              "       [[0.        ],\n",
              "        [0.        ],\n",
              "        [0.2901961 ],\n",
              "        [0.7411765 ],\n",
              "        [0.83137256],\n",
              "        [0.7490196 ],\n",
              "        [0.6862745 ],\n",
              "        [0.6745098 ],\n",
              "        [0.6862745 ],\n",
              "        [0.70980394],\n",
              "        [0.7254902 ],\n",
              "        [0.7372549 ],\n",
              "        [0.7411765 ],\n",
              "        [0.7372549 ],\n",
              "        [0.75686276],\n",
              "        [0.7764706 ],\n",
              "        [0.8       ],\n",
              "        [0.81960785],\n",
              "        [0.8235294 ],\n",
              "        [0.8235294 ],\n",
              "        [0.827451  ],\n",
              "        [0.7372549 ],\n",
              "        [0.7372549 ],\n",
              "        [0.7607843 ],\n",
              "        [0.7529412 ],\n",
              "        [0.84705883],\n",
              "        [0.6666667 ],\n",
              "        [0.        ]],\n",
              "\n",
              "       [[0.00784314],\n",
              "        [0.        ],\n",
              "        [0.        ],\n",
              "        [0.        ],\n",
              "        [0.25882354],\n",
              "        [0.78431374],\n",
              "        [0.87058824],\n",
              "        [0.92941177],\n",
              "        [0.9372549 ],\n",
              "        [0.9490196 ],\n",
              "        [0.9647059 ],\n",
              "        [0.9529412 ],\n",
              "        [0.95686275],\n",
              "        [0.8666667 ],\n",
              "        [0.8627451 ],\n",
              "        [0.75686276],\n",
              "        [0.7490196 ],\n",
              "        [0.7019608 ],\n",
              "        [0.7137255 ],\n",
              "        [0.7137255 ],\n",
              "        [0.70980394],\n",
              "        [0.6901961 ],\n",
              "        [0.6509804 ],\n",
              "        [0.65882355],\n",
              "        [0.3882353 ],\n",
              "        [0.22745098],\n",
              "        [0.        ],\n",
              "        [0.        ]],\n",
              "\n",
              "       [[0.        ],\n",
              "        [0.        ],\n",
              "        [0.        ],\n",
              "        [0.        ],\n",
              "        [0.        ],\n",
              "        [0.        ],\n",
              "        [0.        ],\n",
              "        [0.15686275],\n",
              "        [0.23921569],\n",
              "        [0.17254902],\n",
              "        [0.28235295],\n",
              "        [0.16078432],\n",
              "        [0.13725491],\n",
              "        [0.        ],\n",
              "        [0.        ],\n",
              "        [0.        ],\n",
              "        [0.        ],\n",
              "        [0.        ],\n",
              "        [0.        ],\n",
              "        [0.        ],\n",
              "        [0.        ],\n",
              "        [0.        ],\n",
              "        [0.        ],\n",
              "        [0.        ],\n",
              "        [0.        ],\n",
              "        [0.        ],\n",
              "        [0.        ],\n",
              "        [0.        ]],\n",
              "\n",
              "       [[0.        ],\n",
              "        [0.        ],\n",
              "        [0.        ],\n",
              "        [0.        ],\n",
              "        [0.        ],\n",
              "        [0.        ],\n",
              "        [0.        ],\n",
              "        [0.        ],\n",
              "        [0.        ],\n",
              "        [0.        ],\n",
              "        [0.        ],\n",
              "        [0.        ],\n",
              "        [0.        ],\n",
              "        [0.        ],\n",
              "        [0.        ],\n",
              "        [0.        ],\n",
              "        [0.        ],\n",
              "        [0.        ],\n",
              "        [0.        ],\n",
              "        [0.        ],\n",
              "        [0.        ],\n",
              "        [0.        ],\n",
              "        [0.        ],\n",
              "        [0.        ],\n",
              "        [0.        ],\n",
              "        [0.        ],\n",
              "        [0.        ],\n",
              "        [0.        ]],\n",
              "\n",
              "       [[0.        ],\n",
              "        [0.        ],\n",
              "        [0.        ],\n",
              "        [0.        ],\n",
              "        [0.        ],\n",
              "        [0.        ],\n",
              "        [0.        ],\n",
              "        [0.        ],\n",
              "        [0.        ],\n",
              "        [0.        ],\n",
              "        [0.        ],\n",
              "        [0.        ],\n",
              "        [0.        ],\n",
              "        [0.        ],\n",
              "        [0.        ],\n",
              "        [0.        ],\n",
              "        [0.        ],\n",
              "        [0.        ],\n",
              "        [0.        ],\n",
              "        [0.        ],\n",
              "        [0.        ],\n",
              "        [0.        ],\n",
              "        [0.        ],\n",
              "        [0.        ],\n",
              "        [0.        ],\n",
              "        [0.        ],\n",
              "        [0.        ],\n",
              "        [0.        ]]], dtype=float32)"
            ]
          },
          "metadata": {
            "tags": []
          },
          "execution_count": 6
        }
      ]
    },
    {
      "cell_type": "code",
      "metadata": {
        "id": "E5KdezRt7YFz"
      },
      "source": [
        "noise_factor = 0.2\n",
        "x_train_noisy = x_train + noise_factor * tf.random.normal(shape=x_train.shape) \n",
        "x_test_noisy = x_test + noise_factor * tf.random.normal(shape=x_test.shape) \n",
        "\n",
        "x_train_noisy = tf.clip_by_value(x_train_noisy, clip_value_min=0., clip_value_max=1.)\n",
        "x_test_noisy = tf.clip_by_value(x_test_noisy, clip_value_min=0., clip_value_max=1.)"
      ],
      "execution_count": null,
      "outputs": []
    },
    {
      "cell_type": "code",
      "metadata": {
        "id": "DgqoIHQF7i2-",
        "colab": {
          "base_uri": "https://localhost:8080/",
          "height": 158
        },
        "outputId": "aeab4608-355d-4d47-d0c6-80cb72261cea"
      },
      "source": [
        "n = 10\n",
        "plt.figure(figsize=(20, 2))\n",
        "for i in range(n):\n",
        "    ax = plt.subplot(1, n, i + 1)\n",
        "    plt.title(\"original + noise\")\n",
        "    plt.imshow(tf.squeeze(x_test_noisy[i]))\n",
        "    plt.gray()\n",
        "plt.show()"
      ],
      "execution_count": null,
      "outputs": [
        {
          "output_type": "display_data",
          "data": {
            "image/png": "[encoded data removed]",
            "text/plain": [
              "<Figure size 1440x144 with 10 Axes>"
            ]
          },
          "metadata": {
            "tags": [],
            "needs_background": "light"
          }
        }
      ]
    },
    {
      "cell_type": "code",
      "metadata": {
        "id": "c0r7JsV97lor"
      },
      "source": [
        "class Denoise(Model):\n",
        "  def __init__(self):\n",
        "    super(Denoise, self).__init__()\n",
        "    self.encoder = tf.keras.Sequential([\n",
        "      layers.Input(shape=(28, 28, 1)), \n",
        "      layers.Conv2D(16, (3,3), activation='relu', padding='same', strides=2),\n",
        "      layers.Conv2D(8, (3,3), activation='relu', padding='same', strides=2)])\n",
        "\n",
        "    self.decoder = tf.keras.Sequential([\n",
        "      layers.Conv2DTranspose(8, kernel_size=3, strides=2, activation='relu', padding='same'),\n",
        "      layers.Conv2DTranspose(16, kernel_size=3, strides=2, activation='relu', padding='same'),\n",
        "      layers.Conv2D(1, kernel_size=(3,3), activation='sigmoid', padding='same')])\n",
        "\n",
        "  def call(self, x):\n",
        "    encoded = self.encoder(x)\n",
        "    decoded = self.decoder(encoded)\n",
        "    return decoded\n",
        "\n",
        "autoencoder = Denoise()"
      ],
      "execution_count": null,
      "outputs": []
    },
    {
      "cell_type": "code",
      "metadata": {
        "id": "xx7MdB94711E"
      },
      "source": [
        "autoencoder.compile(optimizer='adam', loss=losses.MeanSquaredError())"
      ],
      "execution_count": null,
      "outputs": []
    },
    {
      "cell_type": "code",
      "metadata": {
        "id": "pJW1SKX974GZ",
        "colab": {
          "base_uri": "https://localhost:8080/"
        },
        "outputId": "5bfdddc0-5102-48ec-e81e-bddc32924934"
      },
      "source": [
        "autoencoder.fit(x_train_noisy, x_train,\n",
        "                epochs=5,\n",
        "                shuffle=True,\n",
        "                validation_data=(x_test_noisy, x_test))"
      ],
      "execution_count": null,
      "outputs": [
        {
          "output_type": "stream",
          "text": [
            "Epoch 1/5\n",
            "1875/1875 [==============================] - 77s 41ms/step - loss: 0.0105 - val_loss: 0.0095\n",
            "Epoch 2/5\n",
            "1875/1875 [==============================] - 78s 42ms/step - loss: 0.0088 - val_loss: 0.0085\n",
            "Epoch 3/5\n",
            "1875/1875 [==============================] - 78s 42ms/step - loss: 0.0081 - val_loss: 0.0078\n",
            "Epoch 4/5\n",
            "1875/1875 [==============================] - 78s 42ms/step - loss: 0.0076 - val_loss: 0.0074\n",
            "Epoch 5/5\n",
            "1875/1875 [==============================] - 78s 42ms/step - loss: 0.0073 - val_loss: 0.0072\n"
          ],
          "name": "stdout"
        },
        {
          "output_type": "execute_result",
          "data": {
            "text/plain": [
              "<tensorflow.python.keras.callbacks.History at 0x7f9cf246e710>"
            ]
          },
          "metadata": {
            "tags": []
          },
          "execution_count": 12
        }
      ]
    },
    {
      "cell_type": "code",
      "metadata": {
        "id": "AsYehNyI75je",
        "colab": {
          "base_uri": "https://localhost:8080/"
        },
        "outputId": "a4636fed-ec18-481f-9897-ab84d00cc085"
      },
      "source": [
        "autoencoder.encoder.summary()"
      ],
      "execution_count": null,
      "outputs": [
        {
          "output_type": "stream",
          "text": [
            "Model: \"sequential\"\n",
            "_________________________________________________________________\n",
            "Layer (type)                 Output Shape              Param #   \n",
            "=================================================================\n",
            "conv2d (Conv2D)              (None, 14, 14, 16)        160       \n",
            "_________________________________________________________________\n",
            "conv2d_1 (Conv2D)            (None, 7, 7, 8)           1160      \n",
            "=================================================================\n",
            "Total params: 1,320\n",
            "Trainable params: 1,320\n",
            "Non-trainable params: 0\n",
            "_________________________________________________________________\n"
          ],
          "name": "stdout"
        }
      ]
    },
    {
      "cell_type": "code",
      "metadata": {
        "id": "MQzV4Jz57-OQ",
        "colab": {
          "base_uri": "https://localhost:8080/"
        },
        "outputId": "3a7f58f4-bf2a-4b9b-e0c8-cd5145bb787f"
      },
      "source": [
        "autoencoder.decoder.summary()"
      ],
      "execution_count": null,
      "outputs": [
        {
          "output_type": "stream",
          "text": [
            "Model: \"sequential_1\"\n",
            "_________________________________________________________________\n",
            "Layer (type)                 Output Shape              Param #   \n",
            "=================================================================\n",
            "conv2d_transpose (Conv2DTran (None, 14, 14, 8)         584       \n",
            "_________________________________________________________________\n",
            "conv2d_transpose_1 (Conv2DTr (None, 28, 28, 16)        1168      \n",
            "_________________________________________________________________\n",
            "conv2d_2 (Conv2D)            (None, 28, 28, 1)         145       \n",
            "=================================================================\n",
            "Total params: 1,897\n",
            "Trainable params: 1,897\n",
            "Non-trainable params: 0\n",
            "_________________________________________________________________\n"
          ],
          "name": "stdout"
        }
      ]
    },
    {
      "cell_type": "code",
      "metadata": {
        "id": "W_BV0_J-7_Mv"
      },
      "source": [
        "encoded_imgs = autoencoder.encoder(x_test).numpy()\n",
        "decoded_imgs = autoencoder.decoder(encoded_imgs).numpy()"
      ],
      "execution_count": null,
      "outputs": []
    },
    {
      "cell_type": "code",
      "metadata": {
        "id": "qsww2HgD8CIO",
        "colab": {
          "base_uri": "https://localhost:8080/",
          "height": 264
        },
        "outputId": "f15e99c0-702a-4991-cbfa-363830d1356b"
      },
      "source": [
        "n = 10\n",
        "plt.figure(figsize=(20, 4))\n",
        "for i in range(n):\n",
        "\n",
        "    # display original + noise\n",
        "    ax = plt.subplot(2, n, i + 1)\n",
        "    plt.title(\"original + noise\")\n",
        "    plt.imshow(tf.squeeze(x_test_noisy[i]))\n",
        "    plt.gray()\n",
        "    ax.get_xaxis().set_visible(False)\n",
        "    ax.get_yaxis().set_visible(False)\n",
        "\n",
        "    # display reconstruction\n",
        "    bx = plt.subplot(2, n, i + n + 1)\n",
        "    plt.title(\"reconstructed\")\n",
        "    plt.imshow(tf.squeeze(decoded_imgs[i]))\n",
        "    plt.gray()\n",
        "    bx.get_xaxis().set_visible(False)\n",
        "    bx.get_yaxis().set_visible(False)\n",
        "plt.show()"
      ],
      "execution_count": null,
      "outputs": [
        {
          "output_type": "display_data",
          "data": {
            "image/png": "[encoded data removed]",
            "text/plain": [
              "<Figure size 1440x288 with 20 Axes>"
            ]
          },
          "metadata": {
            "tags": [],
            "needs_background": "light"
          }
        }
      ]
    }
  ]
}