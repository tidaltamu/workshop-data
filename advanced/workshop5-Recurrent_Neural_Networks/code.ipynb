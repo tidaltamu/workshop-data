{
  "nbformat": 4,
  "nbformat_minor": 0,
  "metadata": {
    "colab": {
      "name": "RNN.ipynb",
      "provenance": [],
      "collapsed_sections": [],
      "include_colab_link": true
    },
    "kernelspec": {
      "name": "python3",
      "display_name": "Python 3"
    },
    "language_info": {
      "name": "python"
    }
  },
  "cells": [
    {
      "cell_type": "markdown",
      "metadata": {
        "id": "view-in-github",
        "colab_type": "text"
      },
      "source": [
        "<a href=\"https://colab.research.google.com/github/tidaltamu/workshops/blob/main/advanced/workshop5/code.ipynb\" target=\"_parent\"><img src=\"https://colab.research.google.com/assets/colab-badge.svg\" alt=\"Open In Colab\"/></a>"
      ]
    },
    {
      "cell_type": "markdown",
      "metadata": {
        "id": "AdFgNA7-aYR1"
      },
      "source": [
        "Source: [Hands-On Machine Learning with Scikit-Learn](https://https://www.amazon.com/Hands-Machine-Learning-Scikit-Learn-TensorFlow/dp/1492032646/ref=sr_1_3?dchild=1&keywords=hands+on+learning+with+scikit+learn&qid=1617146018&s=books&sr=1-3) (Book)"
      ]
    },
    {
      "cell_type": "code",
      "metadata": {
        "id": "tObjS56ba3j4"
      },
      "source": [
        "import numpy as np\n",
        "import pandas as pd\n",
        "import tensorflow as tf\n",
        "from tensorflow import keras"
      ],
      "execution_count": null,
      "outputs": []
    },
    {
      "cell_type": "code",
      "metadata": {
        "id": "q5ID9AdrXhUi"
      },
      "source": [
        "def generate_time_series(batch_size, n_steps):\n",
        "  freq1, freq2, offsets1, offsets2 = np.random.rand(4, batch_size, 1)\n",
        "\n",
        "  time = np.linspace(0, 1, n_steps)\n",
        "\n",
        "  series = 0.5 * np.sin((time - offsets1) * (freq1 * 10 + 10))\n",
        "  series += 0.2 * np.sin((time - offsets2) * (freq2 * 20 + 20))\n",
        "  series += 0.1 * (np.random.rand(batch_size, n_steps) - 0.5)\n",
        "\n",
        "  return series[..., np.newaxis].astype(np.float32)"
      ],
      "execution_count": null,
      "outputs": []
    },
    {
      "cell_type": "code",
      "metadata": {
        "id": "BVRTIJDrbsmC"
      },
      "source": [
        "n_steps = 50\n",
        "series = generate_time_series(10000, n_steps + 1)\n",
        "\n",
        "X_train, y_train = series[:7000, :n_steps], series[:7000, -1]\n",
        "X_valid, y_valid = series[7000:9000, :n_steps], series[7000:9000, -1]\n",
        "X_test, y_test = series[9000:, :n_steps], series[9000:, -1]"
      ],
      "execution_count": null,
      "outputs": []
    },
    {
      "cell_type": "code",
      "metadata": {
        "colab": {
          "base_uri": "https://localhost:8080/",
          "height": 286
        },
        "id": "wD-uAiWEcKqW",
        "outputId": "22baf500-91eb-46a6-939a-7a53baa2fb28"
      },
      "source": [
        "pd.DataFrame(X_test[:1].reshape(1, 50).transpose()).plot()"
      ],
      "execution_count": null,
      "outputs": [
        {
          "output_type": "execute_result",
          "data": {
            "text/plain": [
              "<matplotlib.axes._subplots.AxesSubplot at 0x7f6674076c50>"
            ]
          },
          "metadata": {
            "tags": []
          },
          "execution_count": 19
        },
        {
          "output_type": "display_data",
          "data": {
            "image/png": "[encoded data removed]",
            "text/plain": [
              "<Figure size 432x288 with 1 Axes>"
            ]
          },
          "metadata": {
            "tags": [],
            "needs_background": "light"
          }
        }
      ]
    },
    {
      "cell_type": "code",
      "metadata": {
        "colab": {
          "base_uri": "https://localhost:8080/"
        },
        "id": "9SGm3-yKcywl",
        "outputId": "1dd76474-c3b7-46a3-b3a4-3b142b9641ba"
      },
      "source": [
        "y_test.shape"
      ],
      "execution_count": null,
      "outputs": [
        {
          "output_type": "execute_result",
          "data": {
            "text/plain": [
              "(1000, 1)"
            ]
          },
          "metadata": {
            "tags": []
          },
          "execution_count": 20
        }
      ]
    },
    {
      "cell_type": "markdown",
      "metadata": {
        "id": "hJTO3i8PdLUc"
      },
      "source": [
        "### Baseline Metric"
      ]
    },
    {
      "cell_type": "code",
      "metadata": {
        "colab": {
          "base_uri": "https://localhost:8080/"
        },
        "id": "2eEinNpwdNT8",
        "outputId": "3aa2f5e9-84d3-4897-e47f-ce34fb177d34"
      },
      "source": [
        "y_pred = X_valid[:, -1]\n",
        "np.mean(keras.losses.mean_squared_error(y_valid, y_pred))"
      ],
      "execution_count": null,
      "outputs": [
        {
          "output_type": "execute_result",
          "data": {
            "text/plain": [
              "0.020830458"
            ]
          },
          "metadata": {
            "tags": []
          },
          "execution_count": 22
        }
      ]
    },
    {
      "cell_type": "code",
      "metadata": {
        "id": "RWDeFuRndeb9"
      },
      "source": [
        "model = keras.models.Sequential([\n",
        "  keras.layers.Flatten(input_shape=[50, 1]),\n",
        "  keras.layers.Dense(1)\n",
        "])"
      ],
      "execution_count": null,
      "outputs": []
    },
    {
      "cell_type": "markdown",
      "metadata": {
        "id": "2POkWBdn1aZH"
      },
      "source": [
        ""
      ]
    },
    {
      "cell_type": "code",
      "metadata": {
        "id": "g-HcsupndpaS"
      },
      "source": [
        "model.compile(optimizer=keras.optimizers.Adam(), loss='mse')"
      ],
      "execution_count": null,
      "outputs": []
    },
    {
      "cell_type": "code",
      "metadata": {
        "colab": {
          "base_uri": "https://localhost:8080/"
        },
        "id": "fGYBTl8reRTW",
        "outputId": "6230dfd3-965d-4ff7-9047-c5e40310d9bd"
      },
      "source": [
        "model.fit(X_train, y_train, validation_data=(X_valid, y_valid), epochs=20)"
      ],
      "execution_count": null,
      "outputs": [
        {
          "output_type": "stream",
          "text": [
            "Epoch 1/20\n",
            "219/219 [==============================] - 0s 1ms/step - loss: 0.0625 - val_loss: 0.0405\n",
            "Epoch 2/20\n",
            "219/219 [==============================] - 0s 1ms/step - loss: 0.0302 - val_loss: 0.0241\n",
            "Epoch 3/20\n",
            "219/219 [==============================] - 0s 1ms/step - loss: 0.0199 - val_loss: 0.0169\n",
            "Epoch 4/20\n",
            "219/219 [==============================] - 0s 1ms/step - loss: 0.0147 - val_loss: 0.0129\n",
            "Epoch 5/20\n",
            "219/219 [==============================] - 0s 1ms/step - loss: 0.0116 - val_loss: 0.0105\n",
            "Epoch 6/20\n",
            "219/219 [==============================] - 0s 1ms/step - loss: 0.0097 - val_loss: 0.0091\n",
            "Epoch 7/20\n",
            "219/219 [==============================] - 0s 1ms/step - loss: 0.0086 - val_loss: 0.0081\n",
            "Epoch 8/20\n",
            "219/219 [==============================] - 0s 1ms/step - loss: 0.0079 - val_loss: 0.0075\n",
            "Epoch 9/20\n",
            "219/219 [==============================] - 0s 1ms/step - loss: 0.0073 - val_loss: 0.0069\n",
            "Epoch 10/20\n",
            "219/219 [==============================] - 0s 1ms/step - loss: 0.0068 - val_loss: 0.0065\n",
            "Epoch 11/20\n",
            "219/219 [==============================] - 0s 1ms/step - loss: 0.0064 - val_loss: 0.0062\n",
            "Epoch 12/20\n",
            "219/219 [==============================] - 0s 1ms/step - loss: 0.0060 - val_loss: 0.0057\n",
            "Epoch 13/20\n",
            "219/219 [==============================] - 0s 1ms/step - loss: 0.0056 - val_loss: 0.0054\n",
            "Epoch 14/20\n",
            "219/219 [==============================] - 0s 1ms/step - loss: 0.0053 - val_loss: 0.0052\n",
            "Epoch 15/20\n",
            "219/219 [==============================] - 0s 1ms/step - loss: 0.0051 - val_loss: 0.0050\n",
            "Epoch 16/20\n",
            "219/219 [==============================] - 0s 1ms/step - loss: 0.0049 - val_loss: 0.0048\n",
            "Epoch 17/20\n",
            "219/219 [==============================] - 0s 1ms/step - loss: 0.0047 - val_loss: 0.0046\n",
            "Epoch 18/20\n",
            "219/219 [==============================] - 0s 1ms/step - loss: 0.0046 - val_loss: 0.0046\n",
            "Epoch 19/20\n",
            "219/219 [==============================] - 0s 1ms/step - loss: 0.0045 - val_loss: 0.0043\n",
            "Epoch 20/20\n",
            "219/219 [==============================] - 0s 1ms/step - loss: 0.0043 - val_loss: 0.0042\n"
          ],
          "name": "stdout"
        },
        {
          "output_type": "execute_result",
          "data": {
            "text/plain": [
              "<tensorflow.python.keras.callbacks.History at 0x7f66314fbad0>"
            ]
          },
          "metadata": {
            "tags": []
          },
          "execution_count": 28
        }
      ]
    },
    {
      "cell_type": "markdown",
      "metadata": {
        "id": "hHeKN6rhewkp"
      },
      "source": [
        "Advantages:\n",
        "* Do not need to specify input size of the data; processes any number of time steps!"
      ]
    },
    {
      "cell_type": "code",
      "metadata": {
        "id": "emmBa0rvejXB"
      },
      "source": [
        "sRNN = keras.models.Sequential([\n",
        "                                 keras.layers.SimpleRNN(1, input_shape=[None, 1])\n",
        "])"
      ],
      "execution_count": null,
      "outputs": []
    },
    {
      "cell_type": "code",
      "metadata": {
        "id": "lWO0nwk6fCIE"
      },
      "source": [
        "sRNN.compile(optimizer=keras.optimizers.Adam(), loss='mse')"
      ],
      "execution_count": null,
      "outputs": []
    },
    {
      "cell_type": "code",
      "metadata": {
        "colab": {
          "base_uri": "https://localhost:8080/"
        },
        "id": "1MH75It3fEJ3",
        "outputId": "749d9237-33b8-47b2-809c-b9a6fb48801e"
      },
      "source": [
        "sRNN.fit(X_train, y_train, validation_data=(X_valid, y_valid), epochs=20)"
      ],
      "execution_count": null,
      "outputs": [
        {
          "output_type": "stream",
          "text": [
            "Epoch 1/20\n",
            "219/219 [==============================] - 2s 7ms/step - loss: 0.2329 - val_loss: 0.1254\n",
            "Epoch 2/20\n",
            "219/219 [==============================] - 1s 6ms/step - loss: 0.1149 - val_loss: 0.0896\n",
            "Epoch 3/20\n",
            "219/219 [==============================] - 1s 6ms/step - loss: 0.0841 - val_loss: 0.0719\n",
            "Epoch 4/20\n",
            "219/219 [==============================] - 1s 6ms/step - loss: 0.0682 - val_loss: 0.0592\n",
            "Epoch 5/20\n",
            "219/219 [==============================] - 1s 6ms/step - loss: 0.0553 - val_loss: 0.0501\n",
            "Epoch 6/20\n",
            "219/219 [==============================] - 1s 6ms/step - loss: 0.0471 - val_loss: 0.0434\n",
            "Epoch 7/20\n",
            "219/219 [==============================] - 1s 6ms/step - loss: 0.0417 - val_loss: 0.0381\n",
            "Epoch 8/20\n",
            "219/219 [==============================] - 1s 6ms/step - loss: 0.0373 - val_loss: 0.0340\n",
            "Epoch 9/20\n",
            "219/219 [==============================] - 1s 6ms/step - loss: 0.0333 - val_loss: 0.0306\n",
            "Epoch 10/20\n",
            "219/219 [==============================] - 1s 6ms/step - loss: 0.0296 - val_loss: 0.0278\n",
            "Epoch 11/20\n",
            "219/219 [==============================] - 1s 6ms/step - loss: 0.0268 - val_loss: 0.0255\n",
            "Epoch 12/20\n",
            "219/219 [==============================] - 1s 6ms/step - loss: 0.0248 - val_loss: 0.0235\n",
            "Epoch 13/20\n",
            "219/219 [==============================] - 1s 6ms/step - loss: 0.0230 - val_loss: 0.0217\n",
            "Epoch 14/20\n",
            "219/219 [==============================] - 1s 6ms/step - loss: 0.0221 - val_loss: 0.0202\n",
            "Epoch 15/20\n",
            "219/219 [==============================] - 1s 6ms/step - loss: 0.0204 - val_loss: 0.0189\n",
            "Epoch 16/20\n",
            "219/219 [==============================] - 1s 6ms/step - loss: 0.0185 - val_loss: 0.0178\n",
            "Epoch 17/20\n",
            "219/219 [==============================] - 1s 6ms/step - loss: 0.0178 - val_loss: 0.0168\n",
            "Epoch 18/20\n",
            "219/219 [==============================] - 1s 6ms/step - loss: 0.0168 - val_loss: 0.0159\n",
            "Epoch 19/20\n",
            "219/219 [==============================] - 1s 6ms/step - loss: 0.0156 - val_loss: 0.0151\n",
            "Epoch 20/20\n",
            "219/219 [==============================] - 1s 6ms/step - loss: 0.0152 - val_loss: 0.0144\n"
          ],
          "name": "stdout"
        },
        {
          "output_type": "execute_result",
          "data": {
            "text/plain": [
              "<tensorflow.python.keras.callbacks.History at 0x7f66314c3250>"
            ]
          },
          "metadata": {
            "tags": []
          },
          "execution_count": 31
        }
      ]
    },
    {
      "cell_type": "code",
      "metadata": {
        "id": "v1o-klrLfyxa"
      },
      "source": [
        "dRNN = keras.models.Sequential([\n",
        "  keras.layers.SimpleRNN(20, return_sequences=True, input_shape=[None, 1]),\n",
        "  keras.layers.SimpleRNN(20, return_sequences=True),\n",
        "  keras.layers.Dense(1),\n",
        "])"
      ],
      "execution_count": null,
      "outputs": []
    },
    {
      "cell_type": "code",
      "metadata": {
        "id": "bmcBFMORgDFG"
      },
      "source": [
        "dRNN.compile(optimizer=keras.optimizers.Adam(), loss='mse')"
      ],
      "execution_count": null,
      "outputs": []
    },
    {
      "cell_type": "code",
      "metadata": {
        "colab": {
          "base_uri": "https://localhost:8080/"
        },
        "id": "tl1Q_aVTgIlb",
        "outputId": "32f45a35-33df-4bea-e0e8-1993a233524b"
      },
      "source": [
        "dRNN.fit(X_train, y_train, validation_data=(X_valid, y_valid), epochs=20)"
      ],
      "execution_count": null,
      "outputs": [
        {
          "output_type": "stream",
          "text": [
            "Epoch 1/20\n",
            "219/219 [==============================] - 4s 15ms/step - loss: 0.1759 - val_loss: 0.1404\n",
            "Epoch 2/20\n",
            "219/219 [==============================] - 3s 14ms/step - loss: 0.1473 - val_loss: 0.1379\n",
            "Epoch 3/20\n",
            "219/219 [==============================] - 3s 14ms/step - loss: 0.1427 - val_loss: 0.1362\n",
            "Epoch 4/20\n",
            "219/219 [==============================] - 3s 14ms/step - loss: 0.1419 - val_loss: 0.1331\n",
            "Epoch 5/20\n",
            "219/219 [==============================] - 3s 14ms/step - loss: 0.1305 - val_loss: 0.1248\n",
            "Epoch 6/20\n",
            "219/219 [==============================] - 3s 13ms/step - loss: 0.1137 - val_loss: 0.1021\n",
            "Epoch 7/20\n",
            "219/219 [==============================] - 3s 13ms/step - loss: 0.1057 - val_loss: 0.0994\n",
            "Epoch 8/20\n",
            "219/219 [==============================] - 3s 13ms/step - loss: 0.1028 - val_loss: 0.0965\n",
            "Epoch 9/20\n",
            "219/219 [==============================] - 3s 13ms/step - loss: 0.0939 - val_loss: 0.0898\n",
            "Epoch 10/20\n",
            "219/219 [==============================] - 3s 13ms/step - loss: 0.0918 - val_loss: 0.0912\n",
            "Epoch 11/20\n",
            "219/219 [==============================] - 3s 13ms/step - loss: 0.0917 - val_loss: 0.0874\n",
            "Epoch 12/20\n",
            "219/219 [==============================] - 3s 14ms/step - loss: 0.0890 - val_loss: 0.0876\n",
            "Epoch 13/20\n",
            "219/219 [==============================] - 3s 13ms/step - loss: 0.0891 - val_loss: 0.0882\n",
            "Epoch 14/20\n",
            "219/219 [==============================] - 3s 14ms/step - loss: 0.0866 - val_loss: 0.0860\n",
            "Epoch 15/20\n",
            "219/219 [==============================] - 3s 13ms/step - loss: 0.0852 - val_loss: 0.0830\n",
            "Epoch 16/20\n",
            "219/219 [==============================] - 3s 13ms/step - loss: 0.0842 - val_loss: 0.0823\n",
            "Epoch 17/20\n",
            "219/219 [==============================] - 3s 14ms/step - loss: 0.0836 - val_loss: 0.0802\n",
            "Epoch 18/20\n",
            "219/219 [==============================] - 3s 14ms/step - loss: 0.0815 - val_loss: 0.0809\n",
            "Epoch 19/20\n",
            "219/219 [==============================] - 3s 14ms/step - loss: 0.0826 - val_loss: 0.0793\n",
            "Epoch 20/20\n",
            "219/219 [==============================] - 3s 13ms/step - loss: 0.0807 - val_loss: 0.0787\n"
          ],
          "name": "stdout"
        },
        {
          "output_type": "execute_result",
          "data": {
            "text/plain": [
              "<tensorflow.python.keras.callbacks.History at 0x7f662c375190>"
            ]
          },
          "metadata": {
            "tags": []
          },
          "execution_count": 39
        }
      ]
    },
    {
      "cell_type": "code",
      "metadata": {
        "id": "bzThB8ItpvXp"
      },
      "source": [
        "lstm = keras.models.Sequential([\n",
        "  keras.layers.LSTM(20, return_sequences=True, input_shape=[None, 1]),\n",
        "  keras.layers.LSTM(20, return_sequences=True),\n",
        "  keras.layers.Dense(1),\n",
        "])"
      ],
      "execution_count": null,
      "outputs": []
    },
    {
      "cell_type": "markdown",
      "metadata": {
        "id": "PQn7Dn5Cq9Yj"
      },
      "source": [
        "Source: https://www.kaggle.com/thebrownviking20/intro-to-recurrent-neural-networks-lstm-gru (Kaggle Kernel)"
      ]
    },
    {
      "cell_type": "code",
      "metadata": {
        "id": "cN4aKFKzrGxp"
      },
      "source": [
        ""
      ],
      "execution_count": null,
      "outputs": []
    }
  ]
}